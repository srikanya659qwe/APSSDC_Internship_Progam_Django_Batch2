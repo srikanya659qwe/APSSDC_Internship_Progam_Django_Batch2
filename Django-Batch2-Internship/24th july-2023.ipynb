{
 "cells": [
  {
   "cell_type": "markdown",
   "id": "6c18f746",
   "metadata": {},
   "source": [
    "#### Day objectives:\n",
    "        - regular expression in python\n",
    "                - special characters in re"
   ]
  },
  {
   "cell_type": "markdown",
   "id": "0a9e0012",
   "metadata": {},
   "source": [
    "#### special characters in re:\n",
    "        - .---> any single character\n",
    "        - ^---> starts with\n",
    "        - $---> endswith\n",
    "        - \\d---> single digit\n",
    "        - {min,max}---> length\n",
    "        - [ach]---->either a or c or h\n",
    "        - [^ach]---->neither a nor c nor h\n",
    "        - ^[a-c]--->only starts with a or b or c\n",
    "        - \\D\n",
    "        -\\s\n",
    "        -\\S\n",
    "        -\\w\n",
    "        -\\W"
   ]
  },
  {
   "cell_type": "code",
   "execution_count": 1,
   "id": "a64acce6",
   "metadata": {},
   "outputs": [],
   "source": [
    "import re"
   ]
  },
  {
   "cell_type": "code",
   "execution_count": 11,
   "id": "2988d340",
   "metadata": {},
   "outputs": [
    {
     "name": "stdout",
     "output_type": "stream",
     "text": [
      "sairam\n",
      "sairam\n",
      "<re.Match object; span=(0, 5), match='saira'>\n"
     ]
    }
   ],
   "source": [
    "#### {min,max}\n",
    "name=input()\n",
    "print(name)\n",
    "print(re.search('.{2,5}',name))\n"
   ]
  },
  {
   "cell_type": "code",
   "execution_count": 4,
   "id": "5f9b04d2",
   "metadata": {},
   "outputs": [
    {
     "name": "stdout",
     "output_type": "stream",
     "text": [
      "<re.Match object; span=(0, 5), match='saira'>\n"
     ]
    }
   ],
   "source": [
    "print(re.search('.{2,5}',name))"
   ]
  },
  {
   "cell_type": "code",
   "execution_count": null,
   "id": "0a0c7354",
   "metadata": {},
   "outputs": [],
   "source": [
    "#### [ach]-->indicates either a or c or h"
   ]
  },
  {
   "cell_type": "code",
   "execution_count": 12,
   "id": "d2bef5be",
   "metadata": {},
   "outputs": [
    {
     "name": "stdout",
     "output_type": "stream",
     "text": [
      "<re.Match object; span=(4, 5), match='a'>\n"
     ]
    }
   ],
   "source": [
    "print(re.search('[an]','srikanya'))"
   ]
  },
  {
   "cell_type": "code",
   "execution_count": 13,
   "id": "1b272033",
   "metadata": {},
   "outputs": [
    {
     "name": "stdout",
     "output_type": "stream",
     "text": [
      "<re.Match object; span=(0, 1), match='h'>\n"
     ]
    }
   ],
   "source": [
    "print(re.search('[ach]','hai'))"
   ]
  },
  {
   "cell_type": "code",
   "execution_count": 18,
   "id": "5bfd771e",
   "metadata": {},
   "outputs": [
    {
     "name": "stdout",
     "output_type": "stream",
     "text": [
      "<re.Match object; span=(2, 3), match='b'>\n"
     ]
    }
   ],
   "source": [
    "print(re.search('[a-k]','umbrella'))"
   ]
  },
  {
   "cell_type": "markdown",
   "id": "82477916",
   "metadata": {},
   "source": [
    "#### [^ach]--->indicates neither a nor c nor h"
   ]
  },
  {
   "cell_type": "code",
   "execution_count": 22,
   "id": "dfc0dfe3",
   "metadata": {},
   "outputs": [
    {
     "name": "stdout",
     "output_type": "stream",
     "text": [
      "<re.Match object; span=(1, 2), match='m'>\n"
     ]
    }
   ],
   "source": [
    "print(re.search('[^aeiou]','umbella'))"
   ]
  },
  {
   "cell_type": "code",
   "execution_count": 20,
   "id": "7c327966",
   "metadata": {},
   "outputs": [
    {
     "name": "stdout",
     "output_type": "stream",
     "text": [
      "<re.Match object; span=(2, 3), match='r'>\n"
     ]
    }
   ],
   "source": [
    "print(re.search('[^si]','siri'))"
   ]
  },
  {
   "cell_type": "markdown",
   "id": "469b3c1b",
   "metadata": {},
   "source": [
    "#### ^[a-d]--->only starts with either a or b or c or d"
   ]
  },
  {
   "cell_type": "code",
   "execution_count": 23,
   "id": "c4e19898",
   "metadata": {},
   "outputs": [
    {
     "name": "stdout",
     "output_type": "stream",
     "text": [
      "None\n"
     ]
    }
   ],
   "source": [
    "print(re.search('^[a-d]','umbrella'))"
   ]
  },
  {
   "cell_type": "code",
   "execution_count": 24,
   "id": "f9e72c4e",
   "metadata": {},
   "outputs": [
    {
     "name": "stdout",
     "output_type": "stream",
     "text": [
      "<re.Match object; span=(0, 1), match='b'>\n"
     ]
    }
   ],
   "source": [
    "print(re.search('^[a-c]','bottle'))"
   ]
  },
  {
   "cell_type": "markdown",
   "id": "13122f03",
   "metadata": {},
   "source": [
    "#### \\D--->other than \\d\n",
    "            - mean any single character other than digit"
   ]
  },
  {
   "cell_type": "code",
   "execution_count": 25,
   "id": "e32379b9",
   "metadata": {},
   "outputs": [
    {
     "name": "stdout",
     "output_type": "stream",
     "text": [
      "<re.Match object; span=(0, 1), match='6'>\n"
     ]
    }
   ],
   "source": [
    "print(re.search('\\d','659python'))"
   ]
  },
  {
   "cell_type": "code",
   "execution_count": 26,
   "id": "2e4074be",
   "metadata": {},
   "outputs": [
    {
     "name": "stdout",
     "output_type": "stream",
     "text": [
      "<re.Match object; span=(3, 4), match='p'>\n"
     ]
    }
   ],
   "source": [
    "print(re.search('\\D','659python'))"
   ]
  },
  {
   "cell_type": "code",
   "execution_count": 27,
   "id": "79189f06",
   "metadata": {},
   "outputs": [
    {
     "name": "stdout",
     "output_type": "stream",
     "text": [
      "<re.Match object; span=(3, 4), match=' '>\n"
     ]
    }
   ],
   "source": [
    "print(re.search('\\D','659 python'))"
   ]
  },
  {
   "cell_type": "code",
   "execution_count": 28,
   "id": "2bc9c949",
   "metadata": {},
   "outputs": [
    {
     "name": "stdout",
     "output_type": "stream",
     "text": [
      "None\n"
     ]
    }
   ],
   "source": [
    "print(re.search('\\D','659'))"
   ]
  },
  {
   "cell_type": "markdown",
   "id": "f7e602ad",
   "metadata": {},
   "source": [
    "#### \\s ---> indicates single spacing single character"
   ]
  },
  {
   "cell_type": "code",
   "execution_count": 30,
   "id": "29189ac6",
   "metadata": {},
   "outputs": [
    {
     "name": "stdout",
     "output_type": "stream",
     "text": [
      "<re.Match object; span=(8, 9), match=' '>\n"
     ]
    }
   ],
   "source": [
    "print(re.search('\\s','srikanya tamada apssdc'))"
   ]
  },
  {
   "cell_type": "code",
   "execution_count": 33,
   "id": "2141c69a",
   "metadata": {},
   "outputs": [
    {
     "name": "stdout",
     "output_type": "stream",
     "text": [
      "<re.Match object; span=(0, 1), match=' '>\n"
     ]
    }
   ],
   "source": [
    "print(re.search('\\s',' APSSDC'))"
   ]
  },
  {
   "cell_type": "markdown",
   "id": "dc59d6e3",
   "metadata": {},
   "source": [
    "#### \\S---> it indicates other than \\s\n",
    "            - mean any single character other than single space"
   ]
  },
  {
   "cell_type": "code",
   "execution_count": 35,
   "id": "d49c3663",
   "metadata": {},
   "outputs": [
    {
     "name": "stdout",
     "output_type": "stream",
     "text": [
      "None\n"
     ]
    }
   ],
   "source": [
    "print(re.search('\\S',' '))"
   ]
  },
  {
   "cell_type": "code",
   "execution_count": 36,
   "id": "524a519e",
   "metadata": {},
   "outputs": [
    {
     "name": "stdout",
     "output_type": "stream",
     "text": [
      "<re.Match object; span=(1, 2), match='A'>\n"
     ]
    }
   ],
   "source": [
    "print(re.search('\\S',' APSDC organization'))"
   ]
  },
  {
   "cell_type": "markdown",
   "id": "0a9818a3",
   "metadata": {},
   "source": [
    "#### \\w--->it indicates single identifier\n",
    "        - a-z,A-Z,0-9,_"
   ]
  },
  {
   "cell_type": "code",
   "execution_count": 38,
   "id": "7a65591e",
   "metadata": {},
   "outputs": [
    {
     "name": "stdout",
     "output_type": "stream",
     "text": [
      "<re.Match object; span=(0, 1), match='s'>\n"
     ]
    }
   ],
   "source": [
    "print(re.search('\\w','srikanya'))"
   ]
  },
  {
   "cell_type": "code",
   "execution_count": 40,
   "id": "40126e1c",
   "metadata": {},
   "outputs": [
    {
     "name": "stdout",
     "output_type": "stream",
     "text": [
      "<re.Match object; span=(1, 2), match='8'>\n"
     ]
    }
   ],
   "source": [
    "print(re.search('\\w',' 89srikanya'))"
   ]
  },
  {
   "cell_type": "code",
   "execution_count": 41,
   "id": "593ce2e9",
   "metadata": {},
   "outputs": [
    {
     "name": "stdout",
     "output_type": "stream",
     "text": [
      "<re.Match object; span=(1, 2), match='_'>\n"
     ]
    }
   ],
   "source": [
    "print(re.search('\\w',' _srikanya'))"
   ]
  },
  {
   "cell_type": "markdown",
   "id": "c1764138",
   "metadata": {},
   "source": [
    "#### \\W--->it indicates other than \\w\n",
    "        - other than single identifier character"
   ]
  },
  {
   "cell_type": "code",
   "execution_count": 42,
   "id": "1ffd62db",
   "metadata": {},
   "outputs": [
    {
     "name": "stdout",
     "output_type": "stream",
     "text": [
      "None\n"
     ]
    }
   ],
   "source": [
    "print(re.search('\\W','srikanya_659'))"
   ]
  },
  {
   "cell_type": "code",
   "execution_count": 43,
   "id": "af1bccec",
   "metadata": {},
   "outputs": [
    {
     "name": "stdout",
     "output_type": "stream",
     "text": [
      "<re.Match object; span=(0, 1), match=' '>\n"
     ]
    }
   ],
   "source": [
    "print(re.search('\\W',' srikanya_659'))"
   ]
  },
  {
   "cell_type": "code",
   "execution_count": 44,
   "id": "5cf9ad76",
   "metadata": {},
   "outputs": [
    {
     "name": "stdout",
     "output_type": "stream",
     "text": [
      "<re.Match object; span=(8, 9), match=' '>\n"
     ]
    }
   ],
   "source": [
    "print(re.search('\\W','srikanya _659'))"
   ]
  },
  {
   "cell_type": "code",
   "execution_count": null,
   "id": "7a677f50",
   "metadata": {},
   "outputs": [],
   "source": [
    "#### Problem solving on re"
   ]
  },
  {
   "cell_type": "markdown",
   "id": "0f1f2095",
   "metadata": {},
   "source": [
    "#### to check whether the given phone number is valid phone no or not?\n",
    "#### number is starts with---->6,7,8,9--->^[6-9]\n",
    "#### remaining number length---->10---->{}--->{9}\n",
    "####  digits---->0,1,....9---->[0-9]"
   ]
  },
  {
   "cell_type": "code",
   "execution_count": 47,
   "id": "b5fa1db5",
   "metadata": {},
   "outputs": [
    {
     "name": "stdout",
     "output_type": "stream",
     "text": [
      "valid phone number\n"
     ]
    }
   ],
   "source": [
    "def PhoneValidation(number):\n",
    "    pattern='^[6-9][0-9]{9}$'\n",
    "    if re.match(pattern,number):\n",
    "        print(\"valid phone number\")\n",
    "    else:\n",
    "        print(\"not a valid phone number\")\n",
    "PhoneValidation('9492363502')"
   ]
  },
  {
   "cell_type": "markdown",
   "id": "42a8f457",
   "metadata": {},
   "source": [
    "#### task:\n",
    "    - phone number validation\n",
    "            - starts with 0\n",
    "            - starts with +91"
   ]
  },
  {
   "cell_type": "code",
   "execution_count": null,
   "id": "d88677c9",
   "metadata": {},
   "outputs": [],
   "source": []
  }
 ],
 "metadata": {
  "kernelspec": {
   "display_name": "Python 3 (ipykernel)",
   "language": "python",
   "name": "python3"
  },
  "language_info": {
   "codemirror_mode": {
    "name": "ipython",
    "version": 3
   },
   "file_extension": ".py",
   "mimetype": "text/x-python",
   "name": "python",
   "nbconvert_exporter": "python",
   "pygments_lexer": "ipython3",
   "version": "3.9.13"
  }
 },
 "nbformat": 4,
 "nbformat_minor": 5
}
