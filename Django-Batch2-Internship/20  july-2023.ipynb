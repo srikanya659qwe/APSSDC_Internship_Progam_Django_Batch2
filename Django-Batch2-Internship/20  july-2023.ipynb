{
 "cells": [
  {
   "cell_type": "markdown",
   "id": "9e9a91b9",
   "metadata": {},
   "source": [
    "#### Day objectives:\n",
    "    - file handling in python:\n",
    "        - file:\n",
    "            - it contains collection of data/collection of information.\n",
    "            - file types:\n",
    "                ex:.py,.txt,.excel,.mp4,.mp3,image(.png,.jepg,jfif),.csv,.tsv...\n",
    "                \n",
    "        - steps in file handling:\n",
    "                - open a file\n",
    "                    - open()\n",
    "                        - by using this function we can open a file\n",
    "                - doing an operation\n",
    "                        - read operation\n",
    "                                - read()\n",
    "                        - write operation\n",
    "                                - write(\"data\")\n",
    "                - close a file\n",
    "                        - close()\n",
    "        - file modes:\n",
    "            - read mode('r')-->read mode is default mode in file handling\n",
    "            - write mode('w')\n",
    "            - append mode('a')\n",
    "            \n",
    "         - syntax:\n",
    "                 - open(p1,p2):\n",
    "                     - open('file location',mode)"
   ]
  },
  {
   "cell_type": "markdown",
   "id": "5021e3bb",
   "metadata": {},
   "source": [
    "### read operation(read()):\n",
    "    - read() function reads the entire file and returns a string"
   ]
  },
  {
   "cell_type": "code",
   "execution_count": 2,
   "id": "eb642a4e",
   "metadata": {},
   "outputs": [
    {
     "name": "stdout",
     "output_type": "stream",
     "text": [
      "hai.. guys welcome to django online intership program\n"
     ]
    }
   ],
   "source": [
    "f=open('file.txt','r')\n",
    "data=f.read()\n",
    "print(data)\n",
    "f.close()"
   ]
  },
  {
   "cell_type": "markdown",
   "id": "aa0ede51",
   "metadata": {},
   "source": [
    "#### write operation()--->write():\n",
    "    - writes a fixed sequence of characters to a file. "
   ]
  },
  {
   "cell_type": "code",
   "execution_count": 5,
   "id": "9024e23f",
   "metadata": {},
   "outputs": [
    {
     "name": "stdout",
     "output_type": "stream",
     "text": [
      "26\n"
     ]
    }
   ],
   "source": [
    "#### write mode\n",
    "f=open('file.txt','w')\n",
    "fh=f.write(\"apssdc intership programs\\n\")\n",
    "print(fh)\n",
    "f.close()"
   ]
  },
  {
   "cell_type": "code",
   "execution_count": 6,
   "id": "cf8f4775",
   "metadata": {},
   "outputs": [
    {
     "name": "stdout",
     "output_type": "stream",
     "text": [
      "7\n"
     ]
    }
   ],
   "source": [
    "### append mode\n",
    "f=open('file.txt','a')\n",
    "fh=f.write(\"APSSDC\\n\")\n",
    "print(fh)\n",
    "f.close()"
   ]
  },
  {
   "cell_type": "markdown",
   "id": "c0414753",
   "metadata": {},
   "source": [
    "### to create a file by using file handling concept"
   ]
  },
  {
   "cell_type": "code",
   "execution_count": 8,
   "id": "e9454bca",
   "metadata": {},
   "outputs": [
    {
     "name": "stdout",
     "output_type": "stream",
     "text": [
      "60\n"
     ]
    }
   ],
   "source": [
    "f=open('file2.txt','w')\n",
    "d=f.write(\"this is my new file to create by using file handling concept\")\n",
    "print(d)\n",
    "f.close()"
   ]
  },
  {
   "cell_type": "markdown",
   "id": "5006b09d",
   "metadata": {},
   "source": [
    "### with open():--->here no need to close a file\n",
    "    - syntax:\n",
    "        -with open('filename ,mode') as vaiable name:\n",
    "            # operation"
   ]
  },
  {
   "cell_type": "code",
   "execution_count": 11,
   "id": "13d8dc0d",
   "metadata": {},
   "outputs": [
    {
     "name": "stdout",
     "output_type": "stream",
     "text": [
      "apssdc intership programs\n",
      "APSSDC\n",
      "\n"
     ]
    }
   ],
   "source": [
    "with open('file.txt') as f:\n",
    "    res=f.read()\n",
    "    print(res)\n",
    "    "
   ]
  },
  {
   "cell_type": "code",
   "execution_count": 14,
   "id": "ea32ac6d",
   "metadata": {},
   "outputs": [
    {
     "name": "stdout",
     "output_type": "stream",
     "text": [
      "26\n"
     ]
    }
   ],
   "source": [
    "with open('file2.txt','w') as g:\n",
    "    result=g.write(\"Apssdc engineering portal\\n\")\n",
    "    print(result)"
   ]
  },
  {
   "cell_type": "code",
   "execution_count": 15,
   "id": "cbdb3ad4",
   "metadata": {},
   "outputs": [
    {
     "name": "stdout",
     "output_type": "stream",
     "text": [
      "7\n"
     ]
    }
   ],
   "source": [
    "with open('file2.txt','a') as g:\n",
    "    result=g.write(\"Apssdc\\n\")\n",
    "    print(result)"
   ]
  },
  {
   "cell_type": "code",
   "execution_count": 16,
   "id": "07f45c1f",
   "metadata": {},
   "outputs": [
    {
     "name": "stdout",
     "output_type": "stream",
     "text": [
      "Enter your file name here!..file.txt\n",
      "Enter your mode type!...r\n",
      "apssdc intership programs\n",
      "APSSDC\n",
      "\n"
     ]
    }
   ],
   "source": [
    "#### read operation by using fucntions:\n",
    "def ReadFile(filename):\n",
    "    with open(filename,mode) as h:\n",
    "        data=h.read()\n",
    "        print(data)\n",
    "    \n",
    "filename=input(\"Enter your file name here!..\")\n",
    "mode=input(\"Enter your mode type!...\")\n",
    "ReadFile(filename)"
   ]
  },
  {
   "cell_type": "markdown",
   "id": "225068f9",
   "metadata": {},
   "source": [
    "#### file methods:\n",
    "    - read()\n",
    "    - readline()\n",
    "    - readlines()\n",
    "    - split()\n",
    "    - tell()\n",
    "    - seek()"
   ]
  },
  {
   "cell_type": "code",
   "execution_count": 19,
   "id": "afa79fc8",
   "metadata": {},
   "outputs": [
    {
     "name": "stdout",
     "output_type": "stream",
     "text": [
      "apssdc int\n"
     ]
    }
   ],
   "source": [
    "### read(length):\n",
    "with open('file.txt','r') as n:\n",
    "    m=n.read(10) # it reads first 10 characters from our file\n",
    "    print(m)"
   ]
  },
  {
   "cell_type": "markdown",
   "id": "7584d238",
   "metadata": {},
   "source": [
    "#### readline()---> it returns first line from the file"
   ]
  },
  {
   "cell_type": "code",
   "execution_count": 20,
   "id": "5d7b2461",
   "metadata": {},
   "outputs": [
    {
     "name": "stdout",
     "output_type": "stream",
     "text": [
      "apssdc intership programs\n",
      "\n"
     ]
    }
   ],
   "source": [
    "with open('file.txt','r') as n:\n",
    "    m=n.readline()\n",
    "    print(m)"
   ]
  },
  {
   "cell_type": "markdown",
   "id": "ac62ba2b",
   "metadata": {},
   "source": [
    "#### readlines()---> it returns total lines from file in list format"
   ]
  },
  {
   "cell_type": "code",
   "execution_count": 21,
   "id": "f440e2f7",
   "metadata": {},
   "outputs": [
    {
     "name": "stdout",
     "output_type": "stream",
     "text": [
      "['apssdc intership programs\\n', 'APSSDC\\n']\n"
     ]
    }
   ],
   "source": [
    "with open('file.txt','r') as n:\n",
    "    m=n.readlines()\n",
    "    print(m)"
   ]
  },
  {
   "cell_type": "code",
   "execution_count": null,
   "id": "076f056e",
   "metadata": {},
   "outputs": [],
   "source": [
    "#### split()---> it splits the data into words"
   ]
  },
  {
   "cell_type": "code",
   "execution_count": 24,
   "id": "4b171927",
   "metadata": {},
   "outputs": [
    {
     "name": "stdout",
     "output_type": "stream",
     "text": [
      "['Apssdc', 'engineering', 'portal', 'Apssdc']\n"
     ]
    }
   ],
   "source": [
    "with open('file2.txt','r') as n:\n",
    "    m=n.read()\n",
    "    r=m.split()\n",
    "    print(r)\n",
    "    "
   ]
  },
  {
   "cell_type": "markdown",
   "id": "fac2e1c4",
   "metadata": {},
   "source": [
    "### tell():\n",
    "    - it is used to know the cursor position\n",
    "### seek():\n",
    "    - it is used to change cursor position from one place to another place"
   ]
  },
  {
   "cell_type": "code",
   "execution_count": 27,
   "id": "a7d92b7d",
   "metadata": {},
   "outputs": [
    {
     "name": "stdout",
     "output_type": "stream",
     "text": [
      "5\n",
      "10\n"
     ]
    }
   ],
   "source": [
    "f1=open(\"file.txt\")\n",
    "s=f1.read(5)\n",
    "r=f1.tell()\n",
    "print(r)\n",
    "f1.seek(10)\n",
    "r1=f1.tell()\n",
    "print(r1)\n",
    "f1.close()"
   ]
  },
  {
   "cell_type": "code",
   "execution_count": null,
   "id": "7c61c6b0",
   "metadata": {},
   "outputs": [],
   "source": [
    "### word count\n",
    "### chars count\n",
    "#### lines count"
   ]
  },
  {
   "cell_type": "code",
   "execution_count": 35,
   "id": "1d869aab",
   "metadata": {},
   "outputs": [
    {
     "name": "stdout",
     "output_type": "stream",
     "text": [
      "5\n"
     ]
    }
   ],
   "source": [
    "#### lines count\n",
    "with open('file.txt','r') as n:\n",
    "    m=n.readlines()\n",
    "    print(len(m))"
   ]
  },
  {
   "cell_type": "code",
   "execution_count": 38,
   "id": "065e6915",
   "metadata": {},
   "outputs": [
    {
     "name": "stdout",
     "output_type": "stream",
     "text": [
      "5\n"
     ]
    }
   ],
   "source": [
    "with open('file.txt','r') as n:\n",
    "    count=0\n",
    "    for i in n:\n",
    "        count=count+1\n",
    "    print(count)\n",
    "        \n",
    "   "
   ]
  },
  {
   "cell_type": "markdown",
   "id": "e3b1cd89",
   "metadata": {},
   "source": [
    "### task:\n",
    "    - function to print total words count in file\n",
    "    - function to print total chars count in file"
   ]
  },
  {
   "cell_type": "code",
   "execution_count": null,
   "id": "5ada9005",
   "metadata": {},
   "outputs": [],
   "source": []
  }
 ],
 "metadata": {
  "kernelspec": {
   "display_name": "Python 3 (ipykernel)",
   "language": "python",
   "name": "python3"
  },
  "language_info": {
   "codemirror_mode": {
    "name": "ipython",
    "version": 3
   },
   "file_extension": ".py",
   "mimetype": "text/x-python",
   "name": "python",
   "nbconvert_exporter": "python",
   "pygments_lexer": "ipython3",
   "version": "3.9.13"
  }
 },
 "nbformat": 4,
 "nbformat_minor": 5
}
