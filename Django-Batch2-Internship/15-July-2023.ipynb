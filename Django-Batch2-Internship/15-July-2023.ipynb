{
 "cells": [
  {
   "cell_type": "markdown",
   "id": "49d97541",
   "metadata": {},
   "source": [
    "#### Day Objectives:\n",
    "        - Python Data Structure\n",
    "                - set\n",
    "        - Functions In Python"
   ]
  },
  {
   "cell_type": "markdown",
   "id": "480da793",
   "metadata": {},
   "source": [
    "### Dict:\n",
    "    - key and value\n",
    "    - in dict keys are unique\n",
    "    - syntax:\n",
    "        {key:value,key1:value2,key2:value2}"
   ]
  },
  {
   "cell_type": "code",
   "execution_count": 2,
   "id": "a8e05389",
   "metadata": {},
   "outputs": [
    {
     "name": "stdout",
     "output_type": "stream",
     "text": [
      "{'name': 'srikanya', 'rollnumber': 234, 'branch': 'CSE', 'section': 'A'}\n",
      "<class 'dict'>\n"
     ]
    }
   ],
   "source": [
    "d={'name':'srikanya','rollnumber':234,'branch':'CSE','section':'A'}\n",
    "print(d)\n",
    "print(type(d))"
   ]
  },
  {
   "cell_type": "code",
   "execution_count": 3,
   "id": "8a7aa578",
   "metadata": {},
   "outputs": [
    {
     "name": "stdout",
     "output_type": "stream",
     "text": [
      "['__class__', '__class_getitem__', '__contains__', '__delattr__', '__delitem__', '__dir__', '__doc__', '__eq__', '__format__', '__ge__', '__getattribute__', '__getitem__', '__gt__', '__hash__', '__init__', '__init_subclass__', '__ior__', '__iter__', '__le__', '__len__', '__lt__', '__ne__', '__new__', '__or__', '__reduce__', '__reduce_ex__', '__repr__', '__reversed__', '__ror__', '__setattr__', '__setitem__', '__sizeof__', '__str__', '__subclasshook__', 'clear', 'copy', 'fromkeys', 'get', 'items', 'keys', 'pop', 'popitem', 'setdefault', 'update', 'values']\n"
     ]
    }
   ],
   "source": [
    "print(dir(dict))"
   ]
  },
  {
   "cell_type": "markdown",
   "id": "17cf9f0e",
   "metadata": {},
   "source": [
    "#### keys():\n",
    "    - it returns only keys in dictionary\n",
    "    - syntax:\n",
    "        dict.keys()"
   ]
  },
  {
   "cell_type": "code",
   "execution_count": 5,
   "id": "bac9fa0a",
   "metadata": {},
   "outputs": [
    {
     "name": "stdout",
     "output_type": "stream",
     "text": [
      "{'name': 'srikanya', 'rollnumber': 234, 'branch': 'CSE', 'section': 'A'}\n",
      "dict_keys(['name', 'rollnumber', 'branch', 'section'])\n"
     ]
    }
   ],
   "source": [
    "print(d)\n",
    "print(d.keys())"
   ]
  },
  {
   "cell_type": "markdown",
   "id": "96ab043f",
   "metadata": {},
   "source": [
    "#### values():\n",
    "        - it returns values in dictionary\n",
    "        - syntax:\n",
    "            dict.values()"
   ]
  },
  {
   "cell_type": "code",
   "execution_count": 7,
   "id": "0cf85ff7",
   "metadata": {
    "collapsed": true
   },
   "outputs": [
    {
     "name": "stdout",
     "output_type": "stream",
     "text": [
      "{'name': 'srikanya', 'rollnumber': 234, 'branch': 'CSE', 'section': 'A'}\n",
      "dict_values(['srikanya', 234, 'CSE', 'A'])\n"
     ]
    }
   ],
   "source": [
    "print(d)\n",
    "print(d.values())"
   ]
  },
  {
   "cell_type": "markdown",
   "id": "13e04680",
   "metadata": {},
   "source": [
    "#### items():\n",
    "    - it returns both keys and values in tuple format\n",
    "    - syntax:\n",
    "        dict.items()"
   ]
  },
  {
   "cell_type": "code",
   "execution_count": 9,
   "id": "9a1c15e8",
   "metadata": {},
   "outputs": [
    {
     "name": "stdout",
     "output_type": "stream",
     "text": [
      "{'name': 'srikanya', 'rollnumber': 234, 'branch': 'CSE', 'section': 'A'}\n",
      "dict_items([('name', 'srikanya'), ('rollnumber', 234), ('branch', 'CSE'), ('section', 'A')])\n"
     ]
    }
   ],
   "source": [
    "print(d)\n",
    "print(d.items())"
   ]
  },
  {
   "cell_type": "markdown",
   "id": "6734ee7e",
   "metadata": {},
   "source": [
    "#### get():\n",
    "    - it returns the value for the given key\n",
    "    - syntax:\n",
    "        dict.get('keyname')"
   ]
  },
  {
   "cell_type": "code",
   "execution_count": 13,
   "id": "60b19a56",
   "metadata": {
    "collapsed": true
   },
   "outputs": [
    {
     "name": "stdout",
     "output_type": "stream",
     "text": [
      "{'name': 'srikanya', 'rollnumber': 234, 'branch': 'CSE', 'section': 'A'}\n",
      "234\n",
      "CSE\n",
      "srikanya\n"
     ]
    }
   ],
   "source": [
    "print(d)\n",
    "print(d.get('rollnumber'))\n",
    "print(d.get('branch'))\n",
    "print(d.get('name'))"
   ]
  },
  {
   "cell_type": "markdown",
   "id": "4de103f4",
   "metadata": {},
   "source": [
    "#### pop():\n",
    "        - it returns and removes the element with the given key\n",
    "        - syntax:\n",
    "            dict.pop('key name')"
   ]
  },
  {
   "cell_type": "code",
   "execution_count": 16,
   "id": "58442dad",
   "metadata": {},
   "outputs": [
    {
     "name": "stdout",
     "output_type": "stream",
     "text": [
      "dict_keys(['name', 'rollnumber', 'branch', 'section'])\n",
      "dict_values(['srikanya', 234, 'CSE', 'A'])\n",
      "A\n"
     ]
    }
   ],
   "source": [
    "print(d.keys())\n",
    "print(d.values())\n",
    "print(d.pop('section'))"
   ]
  },
  {
   "cell_type": "code",
   "execution_count": 17,
   "id": "457d6f26",
   "metadata": {},
   "outputs": [
    {
     "name": "stdout",
     "output_type": "stream",
     "text": [
      "{'name': 'srikanya', 'rollnumber': 234, 'branch': 'CSE'}\n"
     ]
    }
   ],
   "source": [
    "print(d)"
   ]
  },
  {
   "cell_type": "markdown",
   "id": "36f69e6b",
   "metadata": {},
   "source": [
    "#### popitem():\n",
    "    - it returns and removes the key-value pair from the dictionary\n",
    "    - syntax():\n",
    "        dict.popitem()"
   ]
  },
  {
   "cell_type": "code",
   "execution_count": 19,
   "id": "7d1ac09d",
   "metadata": {},
   "outputs": [
    {
     "name": "stdout",
     "output_type": "stream",
     "text": [
      "{'name': 'srikanya', 'rollnumber': 234, 'branch': 'CSE'}\n"
     ]
    }
   ],
   "source": [
    "print(d)"
   ]
  },
  {
   "cell_type": "code",
   "execution_count": 20,
   "id": "67aea888",
   "metadata": {},
   "outputs": [
    {
     "name": "stdout",
     "output_type": "stream",
     "text": [
      "('branch', 'CSE')\n"
     ]
    }
   ],
   "source": [
    "print(d.popitem())"
   ]
  },
  {
   "cell_type": "code",
   "execution_count": 21,
   "id": "c1b2a353",
   "metadata": {},
   "outputs": [
    {
     "name": "stdout",
     "output_type": "stream",
     "text": [
      "{'name': 'srikanya', 'rollnumber': 234}\n"
     ]
    }
   ],
   "source": [
    "print(d)"
   ]
  },
  {
   "cell_type": "markdown",
   "id": "e2465ffb",
   "metadata": {},
   "source": [
    "#### copy():\n",
    "    - it returns copy of dictionary\n",
    "    - new_dict=dict.copy()"
   ]
  },
  {
   "cell_type": "code",
   "execution_count": 22,
   "id": "fe994176",
   "metadata": {},
   "outputs": [
    {
     "name": "stdout",
     "output_type": "stream",
     "text": [
      "{'name': 'srikanya', 'rollnumber': 234}\n"
     ]
    }
   ],
   "source": [
    "print(d)"
   ]
  },
  {
   "cell_type": "code",
   "execution_count": 23,
   "id": "d9ced30a",
   "metadata": {},
   "outputs": [
    {
     "name": "stdout",
     "output_type": "stream",
     "text": [
      "{'name': 'srikanya', 'rollnumber': 234}\n"
     ]
    }
   ],
   "source": [
    "d1=d.copy()\n",
    "print(d1)"
   ]
  },
  {
   "cell_type": "code",
   "execution_count": 25,
   "id": "1669a94f",
   "metadata": {},
   "outputs": [
    {
     "name": "stdout",
     "output_type": "stream",
     "text": [
      "{'name': 'srikanya', 'rollnumber': 234}\n",
      "{'name': 'srikanya', 'rollnumber': 234}\n"
     ]
    }
   ],
   "source": [
    "print(d)\n",
    "print(d1)"
   ]
  },
  {
   "cell_type": "markdown",
   "id": "e8ad2802",
   "metadata": {},
   "source": [
    "#### update():\n",
    "    - update the dictionary with the elements from another dictionary\n",
    "    - syntax:\n",
    "        - dict.update({new_dict})"
   ]
  },
  {
   "cell_type": "code",
   "execution_count": 27,
   "id": "785321d8",
   "metadata": {},
   "outputs": [
    {
     "name": "stdout",
     "output_type": "stream",
     "text": [
      "{'name': 'srikanya', 'rollnumber': 234}\n",
      "None\n"
     ]
    }
   ],
   "source": [
    "print(d)\n",
    "print(d.update({'color':'green','workshop':'python'}))"
   ]
  },
  {
   "cell_type": "code",
   "execution_count": 28,
   "id": "9e176273",
   "metadata": {},
   "outputs": [
    {
     "name": "stdout",
     "output_type": "stream",
     "text": [
      "{'name': 'srikanya', 'rollnumber': 234, 'color': 'green', 'workshop': 'python'}\n"
     ]
    }
   ],
   "source": [
    "print(d)"
   ]
  },
  {
   "cell_type": "markdown",
   "id": "b7107ec7",
   "metadata": {},
   "source": [
    "### fromkeys():\n",
    "    - it creates a dictionary from the given sequence\n",
    "    - syntax:\n",
    "        dict.fromkeys(p1,p2)\n",
    "        dict.fromkeys(\"key\",\"value\")"
   ]
  },
  {
   "cell_type": "code",
   "execution_count": 29,
   "id": "cb162912",
   "metadata": {},
   "outputs": [
    {
     "name": "stdout",
     "output_type": "stream",
     "text": [
      "{'name': 'srikanya', 'rollnumber': 234, 'color': 'green', 'workshop': 'python'}\n"
     ]
    }
   ],
   "source": [
    "print(d)"
   ]
  },
  {
   "cell_type": "code",
   "execution_count": 34,
   "id": "0d778976",
   "metadata": {},
   "outputs": [
    {
     "name": "stdout",
     "output_type": "stream",
     "text": [
      "{'3': 10, '7': 10, '8': 10, '9': 10, '0': 10, '1': 10}\n"
     ]
    }
   ],
   "source": [
    "d2={}\n",
    "print(d2.fromkeys(\"378901\",10))\n"
   ]
  },
  {
   "cell_type": "code",
   "execution_count": 38,
   "id": "3ae55e6a",
   "metadata": {},
   "outputs": [
    {
     "name": "stdout",
     "output_type": "stream",
     "text": [
      "{'8': 45, '3': 70, '7': 90, '9': 100, '0': 56, '1': 23}\n"
     ]
    }
   ],
   "source": [
    "d2['8']=45\n",
    "d2['3']=70\n",
    "d2['7']=90\n",
    "d2['9']=100\n",
    "d2['0']=56\n",
    "d2['1']=23\n",
    "print(d2)"
   ]
  },
  {
   "cell_type": "code",
   "execution_count": 36,
   "id": "dae66d06",
   "metadata": {
    "scrolled": true
   },
   "outputs": [
    {
     "name": "stdout",
     "output_type": "stream",
     "text": [
      "{'8': 45}\n"
     ]
    }
   ],
   "source": [
    "print(d2)"
   ]
  },
  {
   "cell_type": "markdown",
   "id": "20462963",
   "metadata": {},
   "source": [
    "#### set default():\n",
    "    - returns the value of a key(if the key is in dictionary)\n",
    "    - dict.setdefault(keyname,value)\n",
    "    - if the key is not in dictionary,\n",
    "            - it inserts a key with thedefault value to the dict."
   ]
  },
  {
   "cell_type": "code",
   "execution_count": 40,
   "id": "6c164845",
   "metadata": {},
   "outputs": [
    {
     "name": "stdout",
     "output_type": "stream",
     "text": [
      "{'a': 97, 'b': 98, 'c': 99, 'd': 100}\n",
      "98\n"
     ]
    }
   ],
   "source": [
    "d3={'a':97,'b':98,'c':99,'d':100}\n",
    "print(d3)\n",
    "print(d3.setdefault('b'))"
   ]
  },
  {
   "cell_type": "code",
   "execution_count": 41,
   "id": "a07c174a",
   "metadata": {},
   "outputs": [
    {
     "name": "stdout",
     "output_type": "stream",
     "text": [
      "32\n"
     ]
    }
   ],
   "source": [
    "print(d3.setdefault(' ',32))"
   ]
  },
  {
   "cell_type": "code",
   "execution_count": 42,
   "id": "42a083bb",
   "metadata": {},
   "outputs": [
    {
     "name": "stdout",
     "output_type": "stream",
     "text": [
      "{'a': 97, 'b': 98, 'c': 99, 'd': 100, ' ': 32}\n"
     ]
    }
   ],
   "source": [
    "print(d3)"
   ]
  },
  {
   "cell_type": "code",
   "execution_count": 43,
   "id": "2561c15d",
   "metadata": {},
   "outputs": [
    {
     "name": "stdout",
     "output_type": "stream",
     "text": [
      "21\n"
     ]
    }
   ],
   "source": [
    "print(d3.setdefault('e',21))"
   ]
  },
  {
   "cell_type": "code",
   "execution_count": 44,
   "id": "4bce595e",
   "metadata": {},
   "outputs": [
    {
     "name": "stdout",
     "output_type": "stream",
     "text": [
      "{'a': 97, 'b': 98, 'c': 99, 'd': 100, ' ': 32, 'e': 21}\n"
     ]
    }
   ],
   "source": [
    "print(d3)"
   ]
  },
  {
   "cell_type": "markdown",
   "id": "b125b5e2",
   "metadata": {},
   "source": [
    "#### Set():\n",
    "    - set is one of the python data structure\n",
    "    - set is a collection of elements which is unordered and unindexed\n",
    "    - represented by \"{}\"\n",
    "    - set is a mutable(changeble)\n",
    "    - set does not allow the duplicate elements"
   ]
  },
  {
   "cell_type": "code",
   "execution_count": 46,
   "id": "a2df454d",
   "metadata": {},
   "outputs": [
    {
     "name": "stdout",
     "output_type": "stream",
     "text": [
      "{}\n",
      "<class 'dict'>\n"
     ]
    }
   ],
   "source": [
    "s={}\n",
    "print(s)\n",
    "print(type(s))\n"
   ]
  },
  {
   "cell_type": "code",
   "execution_count": 50,
   "id": "1c2df8cb",
   "metadata": {},
   "outputs": [
    {
     "name": "stdout",
     "output_type": "stream",
     "text": [
      "{2, 3, 5, 7, 9}\n"
     ]
    },
    {
     "data": {
      "text/plain": [
       "set"
      ]
     },
     "execution_count": 50,
     "metadata": {},
     "output_type": "execute_result"
    }
   ],
   "source": [
    "s1={7,2,3,5,9}\n",
    "print(s1)\n",
    "type(s1)"
   ]
  },
  {
   "cell_type": "code",
   "execution_count": 51,
   "id": "01d86c47",
   "metadata": {},
   "outputs": [
    {
     "name": "stdout",
     "output_type": "stream",
     "text": [
      "{1, 2, 3, 4, 5, 100, 11, 56}\n"
     ]
    }
   ],
   "source": [
    "s2={1,2,3,4,5,56,1,2,3,4,5,5,11,100}\n",
    "print(s2)"
   ]
  },
  {
   "cell_type": "markdown",
   "id": "980906c0",
   "metadata": {},
   "source": [
    "#### 5 builtin methods in python data strucctures:\n",
    "    - max()\n",
    "    - min()\n",
    "    - len()\n",
    "    - sorted()\n",
    "    - sum()"
   ]
  },
  {
   "cell_type": "code",
   "execution_count": 57,
   "id": "37a6433d",
   "metadata": {
    "collapsed": true
   },
   "outputs": [
    {
     "name": "stdout",
     "output_type": "stream",
     "text": [
      "{33, 22, 71, 56, 889, 11, 878}\n",
      "889\n",
      "11\n",
      "7\n",
      "[11, 22, 33, 56, 71, 878, 889]\n",
      "1960\n"
     ]
    }
   ],
   "source": [
    "g={56,33,22,71,878,11,889}\n",
    "print(g)\n",
    "print(max(g))\n",
    "print(min(g))\n",
    "print(len(g))\n",
    "print(sorted(g))\n",
    "print(sum(g))"
   ]
  },
  {
   "cell_type": "code",
   "execution_count": 59,
   "id": "bdcc7968",
   "metadata": {
    "collapsed": true
   },
   "outputs": [
    {
     "name": "stdout",
     "output_type": "stream",
     "text": [
      "['__and__', '__class__', '__class_getitem__', '__contains__', '__delattr__', '__dir__', '__doc__', '__eq__', '__format__', '__ge__', '__getattribute__', '__gt__', '__hash__', '__iand__', '__init__', '__init_subclass__', '__ior__', '__isub__', '__iter__', '__ixor__', '__le__', '__len__', '__lt__', '__ne__', '__new__', '__or__', '__rand__', '__reduce__', '__reduce_ex__', '__repr__', '__ror__', '__rsub__', '__rxor__', '__setattr__', '__sizeof__', '__str__', '__sub__', '__subclasshook__', '__xor__', 'add', 'clear', 'copy', 'difference', 'difference_update', 'discard', 'intersection', 'intersection_update', 'isdisjoint', 'issubset', 'issuperset', 'pop', 'remove', 'symmetric_difference', 'symmetric_difference_update', 'union', 'update']\n"
     ]
    }
   ],
   "source": [
    "### set methods:\n",
    "print(dir(set))"
   ]
  },
  {
   "cell_type": "code",
   "execution_count": 62,
   "id": "43cc91fc",
   "metadata": {
    "collapsed": true
   },
   "outputs": [
    {
     "name": "stdout",
     "output_type": "stream",
     "text": [
      "{33, 67, 22, 71, 56, 889, 11, 878}\n",
      "None\n",
      "{33, 67, 22, 71, 56, 889, 11, 878}\n"
     ]
    }
   ],
   "source": [
    "print(g)\n",
    "print(g.add(67))\n",
    "print(g)"
   ]
  },
  {
   "cell_type": "code",
   "execution_count": 63,
   "id": "9f1b8de2",
   "metadata": {
    "collapsed": true
   },
   "outputs": [
    {
     "name": "stdout",
     "output_type": "stream",
     "text": [
      "None\n"
     ]
    }
   ],
   "source": [
    "print(g.remove(71))"
   ]
  },
  {
   "cell_type": "code",
   "execution_count": 64,
   "id": "c2103008",
   "metadata": {
    "collapsed": true
   },
   "outputs": [
    {
     "name": "stdout",
     "output_type": "stream",
     "text": [
      "{33, 67, 22, 56, 889, 11, 878}\n"
     ]
    }
   ],
   "source": [
    "print(g)"
   ]
  },
  {
   "cell_type": "code",
   "execution_count": null,
   "id": "326103a3",
   "metadata": {},
   "outputs": [],
   "source": [
    "#### Mathematical methods in set:\n",
    "    - union\n",
    "    - intersetion\n",
    "    - difference"
   ]
  },
  {
   "cell_type": "code",
   "execution_count": null,
   "id": "228b9ebd",
   "metadata": {},
   "outputs": [],
   "source": [
    "### union:\n",
    "    - it combines two sets"
   ]
  },
  {
   "cell_type": "code",
   "execution_count": 65,
   "id": "7d5717b8",
   "metadata": {},
   "outputs": [
    {
     "name": "stdout",
     "output_type": "stream",
     "text": [
      "{34, 66, 11, 23, 56, 89, 90}\n"
     ]
    }
   ],
   "source": [
    "a1={34,23,56,66}\n",
    "b1={34,56,89,11,90}\n",
    "print(a1.union(b1))"
   ]
  },
  {
   "cell_type": "code",
   "execution_count": null,
   "id": "44e821fe",
   "metadata": {},
   "outputs": [],
   "source": [
    "#### intersection:\n",
    "    - returns common elements from the two sets"
   ]
  },
  {
   "cell_type": "code",
   "execution_count": 66,
   "id": "b511b683",
   "metadata": {},
   "outputs": [
    {
     "name": "stdout",
     "output_type": "stream",
     "text": [
      "{56, 34}\n"
     ]
    }
   ],
   "source": [
    "a1={34,23,56,66}\n",
    "b1={34,56,89,11,90}\n",
    "print(a1.intersection(b1))"
   ]
  },
  {
   "cell_type": "code",
   "execution_count": null,
   "id": "993da0fb",
   "metadata": {},
   "outputs": [],
   "source": [
    "#### difference():\n",
    "    - common elements from two sets\n",
    "    - it returns except elements remaining elements fron the set1."
   ]
  },
  {
   "cell_type": "code",
   "execution_count": 67,
   "id": "f99baf20",
   "metadata": {},
   "outputs": [
    {
     "name": "stdout",
     "output_type": "stream",
     "text": [
      "{66, 23}\n"
     ]
    }
   ],
   "source": [
    "a1={34,23,56,66}\n",
    "b1={34,56,89,11,90}\n",
    "print(a1.difference(b1))"
   ]
  },
  {
   "cell_type": "code",
   "execution_count": null,
   "id": "c0e15565",
   "metadata": {},
   "outputs": [],
   "source": []
  }
 ],
 "metadata": {
  "kernelspec": {
   "display_name": "Python 3 (ipykernel)",
   "language": "python",
   "name": "python3"
  },
  "language_info": {
   "codemirror_mode": {
    "name": "ipython",
    "version": 3
   },
   "file_extension": ".py",
   "mimetype": "text/x-python",
   "name": "python",
   "nbconvert_exporter": "python",
   "pygments_lexer": "ipython3",
   "version": "3.9.13"
  }
 },
 "nbformat": 4,
 "nbformat_minor": 5
}
