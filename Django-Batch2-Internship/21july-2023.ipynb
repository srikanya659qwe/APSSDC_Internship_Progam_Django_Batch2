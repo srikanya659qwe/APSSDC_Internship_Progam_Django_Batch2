{
 "cells": [
  {
   "cell_type": "markdown",
   "id": "21773e6a",
   "metadata": {},
   "source": [
    "#### Day objectives:\n",
    "    - problem solving on file handling\n",
    "    - package and module in python"
   ]
  },
  {
   "cell_type": "markdown",
   "id": "edcc4ccf",
   "metadata": {},
   "source": [
    "#### to read a filename and if it is existed it will return \"yes\" otherwise the file will\n",
    "#### be created respected folder location?"
   ]
  },
  {
   "cell_type": "code",
   "execution_count": 5,
   "id": "0e302494",
   "metadata": {},
   "outputs": [],
   "source": [
    "import os.path"
   ]
  },
  {
   "cell_type": "code",
   "execution_count": 6,
   "id": "3acea0c9",
   "metadata": {},
   "outputs": [
    {
     "name": "stdout",
     "output_type": "stream",
     "text": [
      "False\n"
     ]
    }
   ],
   "source": [
    "f1=os.path.exists('file3.txt')\n",
    "print(f1)"
   ]
  },
  {
   "cell_type": "code",
   "execution_count": 8,
   "id": "b0263845",
   "metadata": {},
   "outputs": [
    {
     "name": "stdout",
     "output_type": "stream",
     "text": [
      "Enter your filename here!...sample2.txt\n",
      "NO....Create it\n",
      "sample2.txt is created successfully!..\n"
     ]
    }
   ],
   "source": [
    "fn=input(\"Enter your filename here!...\")\n",
    "if os.path.exists(fn):\n",
    "    print(\"YES\")\n",
    "else:\n",
    "    print(\"NO....Create it\")\n",
    "    f2=open(fn,'w')\n",
    "    print(fn,\"is created successfully!..\")"
   ]
  },
  {
   "cell_type": "markdown",
   "id": "a706e1d3",
   "metadata": {},
   "source": [
    "#### write a program to print the only uppercase letters from file"
   ]
  },
  {
   "cell_type": "code",
   "execution_count": 11,
   "id": "f1d409d4",
   "metadata": {},
   "outputs": [
    {
     "name": "stdout",
     "output_type": "stream",
     "text": [
      "A A "
     ]
    }
   ],
   "source": [
    "with open('file2.txt','r') as r1:\n",
    "    data=r1.read()\n",
    "#     print(data)\n",
    "    for i in data:\n",
    "        if i.isupper():\n",
    "            print(i,end=\" \")"
   ]
  },
  {
   "cell_type": "markdown",
   "id": "c3331b85",
   "metadata": {},
   "source": [
    "#### write a program to read a file from the user,and then perform the following operations\n",
    "    - count the total lines in the file\n",
    "    - count the total words in the file\n",
    "    - count the total characters in the file"
   ]
  },
  {
   "cell_type": "code",
   "execution_count": 28,
   "id": "0098a69c",
   "metadata": {
    "collapsed": true
   },
   "outputs": [
    {
     "name": "stdout",
     "output_type": "stream",
     "text": [
      "apssdc intership programs\n",
      "\n",
      "apssdc intership programs\n",
      "1\n",
      "['apssdc', 'intership', 'programs']\n",
      "3\n",
      "25\n",
      "APSSDC\n",
      "\n",
      "APSSDC\n",
      "2\n",
      "['APSSDC']\n",
      "4\n",
      "31\n",
      "line 1\n",
      "\n",
      "line 1\n",
      "3\n",
      "['line', '1']\n",
      "6\n",
      "37\n",
      "line 2\n",
      "\n",
      "line 2\n",
      "4\n",
      "['line', '2']\n",
      "8\n",
      "43\n",
      "line 3\n",
      "line 3\n",
      "5\n",
      "['line', '3']\n",
      "10\n",
      "49\n",
      "no of lines in this file is 5\n",
      "no of words in this file is 10\n",
      "no of chars in this file is 49\n"
     ]
    }
   ],
   "source": [
    "file=open('file.txt','r')\n",
    "line_count=words_count=chars_count=0\n",
    "for i in file:\n",
    "    print(i)\n",
    "    i=i.strip(\"\\n\")\n",
    "    print(i)\n",
    "    line_count=line_count+1\n",
    "    print(line_count)\n",
    "    word=i.split()\n",
    "    print(word)\n",
    "    words_count+=len(word)\n",
    "    print(words_count)\n",
    "    chars_count+=len(i)\n",
    "    print(chars_count)\n",
    "    \n",
    "print(\"no of lines in this file is\",line_count)\n",
    "print(\"no of words in this file is\",words_count)\n",
    "print(\"no of chars in this file is\",chars_count)\n",
    "\n",
    "file.close()"
   ]
  },
  {
   "cell_type": "markdown",
   "id": "5375a9c2",
   "metadata": {},
   "source": [
    "#### Package And Module In Python:\n",
    "#### Package:\n",
    "        - it is a collection of modules\n",
    "#### Module:\n",
    "        - it is a python file\n",
    "        - it contains collecctions variables,functions,keywords....\n",
    "#### Types of modules:\n",
    "        - builtin modules\n",
    "                - math,statistics,os,keyword,datetime,sys....\n",
    "        - usedefined module\n",
    "                - which is created by a user\n",
    "        - for module accessing python provide one keyword\n",
    "            - syntax:\n",
    "                i.e import module name"
   ]
  },
  {
   "cell_type": "code",
   "execution_count": null,
   "id": "0bdc872f",
   "metadata": {},
   "outputs": [],
   "source": [
    "#### builtin module"
   ]
  },
  {
   "cell_type": "code",
   "execution_count": 30,
   "id": "00e835c9",
   "metadata": {},
   "outputs": [],
   "source": [
    "import math"
   ]
  },
  {
   "cell_type": "code",
   "execution_count": 38,
   "id": "00f9efa5",
   "metadata": {
    "collapsed": true
   },
   "outputs": [
    {
     "name": "stdout",
     "output_type": "stream",
     "text": [
      "120\n",
      "6\n",
      "3.141592653589793\n",
      "7.38905609893065\n",
      "1000.0\n",
      "5\n",
      "6\n"
     ]
    }
   ],
   "source": [
    "print(math.factorial(5))\n",
    "print(math.gcd(6,24))\n",
    "print(math.pi)\n",
    "print(math.exp(2))\n",
    "print(math.pow(10,3))\n",
    "print(math.floor(5.6))\n",
    "print(math.ceil(5.6))"
   ]
  },
  {
   "cell_type": "code",
   "execution_count": 41,
   "id": "f4a856bb",
   "metadata": {},
   "outputs": [
    {
     "name": "stdout",
     "output_type": "stream",
     "text": [
      "0.6931471805599453\n",
      "1.0\n",
      "1.0\n"
     ]
    }
   ],
   "source": [
    "#### Logrithmic functions\n",
    "print(math.log(2))\n",
    "print(math.log2(2))\n",
    "print(math.log10(10))"
   ]
  },
  {
   "cell_type": "code",
   "execution_count": 45,
   "id": "7cff2b2f",
   "metadata": {},
   "outputs": [
    {
     "name": "stdout",
     "output_type": "stream",
     "text": [
      "0.7457052121767203\n",
      "-0.6662760212798241\n",
      "-1.1192136417341325\n",
      "-0.8934844632974448\n"
     ]
    }
   ],
   "source": [
    "#### Tringnometic Functions\n",
    "x=2.3\n",
    "print(math.sin(x))\n",
    "print(math.cos(x))\n",
    "print(math.tan(x))\n",
    "print(math.cos(x)/math.sin(x))"
   ]
  },
  {
   "cell_type": "code",
   "execution_count": 46,
   "id": "fe517ece",
   "metadata": {},
   "outputs": [],
   "source": [
    "import statistics"
   ]
  },
  {
   "cell_type": "code",
   "execution_count": 50,
   "id": "fa46d0bc",
   "metadata": {},
   "outputs": [
    {
     "name": "stdout",
     "output_type": "stream",
     "text": [
      "3.5555555555555554\n",
      "5\n",
      "4\n"
     ]
    }
   ],
   "source": [
    "li=[1,2,3,3,4,4,5,5,5]\n",
    "print(statistics.mean(li))\n",
    "print(statistics.mode(li))\n",
    "print(statistics.median(li))"
   ]
  },
  {
   "cell_type": "code",
   "execution_count": 51,
   "id": "c9665f39",
   "metadata": {},
   "outputs": [],
   "source": [
    "import sys"
   ]
  },
  {
   "cell_type": "code",
   "execution_count": 55,
   "id": "9864e8ed",
   "metadata": {
    "collapsed": true
   },
   "outputs": [
    {
     "name": "stdout",
     "output_type": "stream",
     "text": [
      "['C:\\\\Users\\\\win\\\\Desktop\\\\Django-Batch2-Internship', 'C:\\\\ProgramData\\\\Anaconda3\\\\python39.zip', 'C:\\\\ProgramData\\\\Anaconda3\\\\DLLs', 'C:\\\\ProgramData\\\\Anaconda3\\\\lib', 'C:\\\\ProgramData\\\\Anaconda3', '', 'C:\\\\Users\\\\win\\\\AppData\\\\Roaming\\\\Python\\\\Python39\\\\site-packages', 'C:\\\\ProgramData\\\\Anaconda3\\\\lib\\\\site-packages', 'C:\\\\ProgramData\\\\Anaconda3\\\\lib\\\\site-packages\\\\win32', 'C:\\\\ProgramData\\\\Anaconda3\\\\lib\\\\site-packages\\\\win32\\\\lib', 'C:\\\\ProgramData\\\\Anaconda3\\\\lib\\\\site-packages\\\\Pythonwin', 'C:\\\\ProgramData\\\\Anaconda3\\\\lib\\\\site-packages\\\\IPython\\\\extensions', 'C:\\\\Users\\\\win\\\\.ipython']\n"
     ]
    }
   ],
   "source": [
    "print(sys.path)"
   ]
  },
  {
   "cell_type": "code",
   "execution_count": 56,
   "id": "90dcb1d6",
   "metadata": {},
   "outputs": [],
   "source": [
    "import datetime"
   ]
  },
  {
   "cell_type": "code",
   "execution_count": 58,
   "id": "c944a7c5",
   "metadata": {},
   "outputs": [
    {
     "name": "stdout",
     "output_type": "stream",
     "text": [
      "2023-07-21\n"
     ]
    }
   ],
   "source": [
    "print(datetime.date.today())"
   ]
  },
  {
   "cell_type": "code",
   "execution_count": 65,
   "id": "d1b870af",
   "metadata": {},
   "outputs": [
    {
     "name": "stdout",
     "output_type": "stream",
     "text": [
      "2023\n",
      "7\n",
      "21\n"
     ]
    }
   ],
   "source": [
    "a=datetime.date.today()\n",
    "print(a.year)\n",
    "print(a.month)\n",
    "print(a.day)"
   ]
  },
  {
   "cell_type": "code",
   "execution_count": null,
   "id": "40c1b0f5",
   "metadata": {},
   "outputs": [],
   "source": []
  }
 ],
 "metadata": {
  "kernelspec": {
   "display_name": "Python 3 (ipykernel)",
   "language": "python",
   "name": "python3"
  },
  "language_info": {
   "codemirror_mode": {
    "name": "ipython",
    "version": 3
   },
   "file_extension": ".py",
   "mimetype": "text/x-python",
   "name": "python",
   "nbconvert_exporter": "python",
   "pygments_lexer": "ipython3",
   "version": "3.9.13"
  }
 },
 "nbformat": 4,
 "nbformat_minor": 5
}
