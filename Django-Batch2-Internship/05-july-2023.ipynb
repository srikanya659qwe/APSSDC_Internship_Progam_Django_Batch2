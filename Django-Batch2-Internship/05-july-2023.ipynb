{
 "cells": [
  {
   "cell_type": "markdown",
   "id": "fe02a8eb",
   "metadata": {},
   "source": [
    "#### Day Objection:\n",
    "        - python Introduction"
   ]
  },
  {
   "cell_type": "markdown",
   "id": "ab28a81f",
   "metadata": {},
   "source": [
    "#### What is python\n",
    "    - it is a one of the programming language\n",
    "    - python is a simple,general purpose,interpreted,high level,object oriented \n",
    "    programming language.\n",
    "    - python developed by Guido Van Rossum\n",
    "    - Guido Van Rossum started implementing python in 1989,and released in 1991.\n",
    "    \n",
    "    \n",
    "#### python features\n",
    "    * Easy to learn and Use\n",
    "    * Interpreted language\n",
    "    * free and open source\n",
    "    * Expensive language--->machines understandable and readable\n",
    "    * GUIprogramming support\n",
    "    * Large Standard libraries\n",
    "    * object-oriented\n",
    "\n",
    "\n",
    "#### python applications:\n",
    "    * web applications(google,youtube,instagram,drapbox...etc)\n",
    "    * Game Development\n",
    "    * GUI based Applications\n",
    "    * Data Science\n",
    "    * Machine learning\n",
    "    * Artificial intelligence\n",
    "    * Multi media\n",
    "    * Scientific Computing\n",
    "    \n",
    " #### Platforms for Python:\n",
    "     - IDLE(Integrated development learning environment)\n",
    "     - Pycharm\n",
    "     - Anaconda Navigator(jupy notebook,Jupyter lab)\n",
    "\n",
    "\n",
    "\n",
    "\n",
    "\n",
    "\n",
    "\n",
    "\n",
    "\n",
    "\n",
    "\n",
    "\n",
    "\n"
   ]
  },
  {
   "cell_type": "markdown",
   "id": "2602766a",
   "metadata": {},
   "source": [
    "#### python Basics:"
   ]
  },
  {
   "cell_type": "code",
   "execution_count": 3,
   "id": "95b172e1",
   "metadata": {},
   "outputs": [
    {
     "name": "stdout",
     "output_type": "stream",
     "text": [
      "Hello World!\n"
     ]
    }
   ],
   "source": [
    "print(\"Hello World!\")"
   ]
  },
  {
   "cell_type": "code",
   "execution_count": 2,
   "id": "ca0f6012",
   "metadata": {},
   "outputs": [
    {
     "ename": "SyntaxError",
     "evalue": "invalid syntax (2497053111.py, line 1)",
     "output_type": "error",
     "traceback": [
      "\u001b[1;36m  File \u001b[1;32m\"C:\\Users\\win\\AppData\\Local\\Temp\\ipykernel_6756\\2497053111.py\"\u001b[1;36m, line \u001b[1;32m1\u001b[0m\n\u001b[1;33m    print(hello world)\u001b[0m\n\u001b[1;37m                ^\u001b[0m\n\u001b[1;31mSyntaxError\u001b[0m\u001b[1;31m:\u001b[0m invalid syntax\n"
     ]
    }
   ],
   "source": [
    "print(hello world)"
   ]
  },
  {
   "cell_type": "markdown",
   "id": "4d448abf",
   "metadata": {},
   "source": [
    "#### variable:\n",
    "    - which is used to store data/value\n",
    "    - syntax:\n",
    "        variable_name=value/data\n",
    "        \n",
    "#### Variable Rules:\n",
    "    - variable name should not starts with numbers\n",
    "    - variable name should not starts with special chars\n",
    "    - can not starts with python keywords\n",
    "    - can not starts with space"
   ]
  },
  {
   "cell_type": "code",
   "execution_count": 4,
   "id": "0e1ece2f",
   "metadata": {},
   "outputs": [
    {
     "name": "stdout",
     "output_type": "stream",
     "text": [
      "78\n"
     ]
    }
   ],
   "source": [
    "_a=78\n",
    "print(_a)"
   ]
  },
  {
   "cell_type": "code",
   "execution_count": 5,
   "id": "1149e8be",
   "metadata": {},
   "outputs": [
    {
     "ename": "SyntaxError",
     "evalue": "cannot assign to literal (1146735078.py, line 1)",
     "output_type": "error",
     "traceback": [
      "\u001b[1;36m  File \u001b[1;32m\"C:\\Users\\win\\AppData\\Local\\Temp\\ipykernel_6756\\1146735078.py\"\u001b[1;36m, line \u001b[1;32m1\u001b[0m\n\u001b[1;33m    3=89\u001b[0m\n\u001b[1;37m    ^\u001b[0m\n\u001b[1;31mSyntaxError\u001b[0m\u001b[1;31m:\u001b[0m cannot assign to literal\n"
     ]
    }
   ],
   "source": [
    "3=89\n",
    "print(3)"
   ]
  },
  {
   "cell_type": "code",
   "execution_count": 6,
   "id": "ec0f68db",
   "metadata": {},
   "outputs": [
    {
     "ename": "SyntaxError",
     "evalue": "invalid syntax (2441874636.py, line 1)",
     "output_type": "error",
     "traceback": [
      "\u001b[1;36m  File \u001b[1;32m\"C:\\Users\\win\\AppData\\Local\\Temp\\ipykernel_6756\\2441874636.py\"\u001b[1;36m, line \u001b[1;32m1\u001b[0m\n\u001b[1;33m    @v=\"python\"\u001b[0m\n\u001b[1;37m      ^\u001b[0m\n\u001b[1;31mSyntaxError\u001b[0m\u001b[1;31m:\u001b[0m invalid syntax\n"
     ]
    }
   ],
   "source": [
    "@v=\"python\"\n",
    "print(@v)"
   ]
  },
  {
   "cell_type": "code",
   "execution_count": 7,
   "id": "d2d69f33",
   "metadata": {},
   "outputs": [
    {
     "ename": "SyntaxError",
     "evalue": "cannot assign to True (3447069856.py, line 1)",
     "output_type": "error",
     "traceback": [
      "\u001b[1;36m  File \u001b[1;32m\"C:\\Users\\win\\AppData\\Local\\Temp\\ipykernel_6756\\3447069856.py\"\u001b[1;36m, line \u001b[1;32m1\u001b[0m\n\u001b[1;33m    True=89\u001b[0m\n\u001b[1;37m    ^\u001b[0m\n\u001b[1;31mSyntaxError\u001b[0m\u001b[1;31m:\u001b[0m cannot assign to True\n"
     ]
    }
   ],
   "source": [
    "True=89\n",
    "print(True)"
   ]
  },
  {
   "cell_type": "code",
   "execution_count": 9,
   "id": "927ce16a",
   "metadata": {},
   "outputs": [
    {
     "ename": "SyntaxError",
     "evalue": "invalid syntax (2419322142.py, line 1)",
     "output_type": "error",
     "traceback": [
      "\u001b[1;36m  File \u001b[1;32m\"C:\\Users\\win\\AppData\\Local\\Temp\\ipykernel_6756\\2419322142.py\"\u001b[1;36m, line \u001b[1;32m1\u001b[0m\n\u001b[1;33m    g m=90\u001b[0m\n\u001b[1;37m      ^\u001b[0m\n\u001b[1;31mSyntaxError\u001b[0m\u001b[1;31m:\u001b[0m invalid syntax\n"
     ]
    }
   ],
   "source": [
    "g m=90\n",
    "print(g m)"
   ]
  },
  {
   "cell_type": "markdown",
   "id": "fb0f1474",
   "metadata": {},
   "source": [
    "#### Python keywords:\n",
    "    - reserved words in python"
   ]
  },
  {
   "cell_type": "code",
   "execution_count": 11,
   "id": "eb0402dd",
   "metadata": {},
   "outputs": [
    {
     "name": "stdout",
     "output_type": "stream",
     "text": [
      "['False', 'None', 'True', '__peg_parser__', 'and', 'as', 'assert', 'async', 'await', 'break', 'class', 'continue', 'def', 'del', 'elif', 'else', 'except', 'finally', 'for', 'from', 'global', 'if', 'import', 'in', 'is', 'lambda', 'nonlocal', 'not', 'or', 'pass', 'raise', 'return', 'try', 'while', 'with', 'yield']\n",
      "36\n"
     ]
    }
   ],
   "source": [
    "import keyword\n",
    "print(keyword.kwlist)\n",
    "print(len(keyword.kwlist))"
   ]
  },
  {
   "cell_type": "markdown",
   "id": "955bbec3",
   "metadata": {},
   "source": [
    "### python Data types:\n",
    "    - Data Type:\n",
    "            - it returns type of variable data\n",
    "    - Python Data types:\n",
    "            -  int\n",
    "            - float \n",
    "            - str\n",
    "            - boolean\n",
    "            - type function is used to check data type of an object\n",
    "            - syntax:\n",
    "                type(variable name/object)"
   ]
  },
  {
   "cell_type": "code",
   "execution_count": 13,
   "id": "5f64b367",
   "metadata": {},
   "outputs": [
    {
     "name": "stdout",
     "output_type": "stream",
     "text": [
      "659\n",
      "<class 'int'>\n"
     ]
    }
   ],
   "source": [
    "n=659\n",
    "print(n)\n",
    "print(type(n))"
   ]
  },
  {
   "cell_type": "code",
   "execution_count": 15,
   "id": "742162e6",
   "metadata": {},
   "outputs": [
    {
     "name": "stdout",
     "output_type": "stream",
     "text": [
      "python workshop\n"
     ]
    },
    {
     "data": {
      "text/plain": [
       "str"
      ]
     },
     "execution_count": 15,
     "metadata": {},
     "output_type": "execute_result"
    }
   ],
   "source": [
    "a=\"python workshop\"\n",
    "print(a)\n",
    "type(a)"
   ]
  },
  {
   "cell_type": "code",
   "execution_count": 17,
   "id": "ab566453",
   "metadata": {},
   "outputs": [
    {
     "name": "stdout",
     "output_type": "stream",
     "text": [
      "89.67\n",
      "<class 'float'>\n"
     ]
    }
   ],
   "source": [
    "b=89.67\n",
    "print(b)\n",
    "print(type(b))"
   ]
  },
  {
   "cell_type": "markdown",
   "id": "a2438714",
   "metadata": {},
   "source": [
    "#### Type Casting In Python:\n",
    "    - Convert one kind of data type into another kind of data type.\n",
    "    - int(str)--->string to integer\n",
    "    - float(str)---> str to float\n",
    "    - str(int)--->integer to str\n",
    "    - str(float)---> float to str"
   ]
  },
  {
   "cell_type": "code",
   "execution_count": 22,
   "id": "76ddf32b",
   "metadata": {},
   "outputs": [
    {
     "name": "stdout",
     "output_type": "stream",
     "text": [
      "7\n",
      "<class 'int'>\n",
      "7.0\n",
      "<class 'float'>\n"
     ]
    }
   ],
   "source": [
    "### int to float\n",
    "x=7\n",
    "y=float(x)\n",
    "print(x)\n",
    "print(type(x))\n",
    "print(y)\n",
    "print(type(y))"
   ]
  },
  {
   "cell_type": "code",
   "execution_count": 30,
   "id": "dd29bcd6",
   "metadata": {},
   "outputs": [
    {
     "name": "stdout",
     "output_type": "stream",
     "text": [
      "89\n",
      "<class 'int'>\n",
      "89\n",
      "<class 'str'>\n"
     ]
    }
   ],
   "source": [
    "### int into str\n",
    "m=89\n",
    "print(m)\n",
    "print(type(m))\n",
    "n=str(m)\n",
    "print(n)\n",
    "print(type(n))"
   ]
  },
  {
   "cell_type": "code",
   "execution_count": 34,
   "id": "c52d5b14",
   "metadata": {
    "collapsed": true
   },
   "outputs": [
    {
     "name": "stdout",
     "output_type": "stream",
     "text": [
      "8.9\n",
      "<class 'float'>\n",
      "8\n",
      "<class 'int'>\n"
     ]
    }
   ],
   "source": [
    "### float into int\n",
    "c=8.9\n",
    "d=int(c)\n",
    "print(c)\n",
    "print(type(c))\n",
    "print(d)\n",
    "print(type(d))"
   ]
  },
  {
   "cell_type": "code",
   "execution_count": 38,
   "id": "18b9afcf",
   "metadata": {},
   "outputs": [
    {
     "name": "stdout",
     "output_type": "stream",
     "text": [
      "8.9\n",
      "<class 'float'>\n",
      "8.9\n",
      "<class 'str'>\n"
     ]
    }
   ],
   "source": [
    "### float to str\n",
    "c=8.9\n",
    "print(c)\n",
    "print(type(c))\n",
    "f=str(c)\n",
    "print(f)\n",
    "print(type(f))"
   ]
  },
  {
   "cell_type": "code",
   "execution_count": 42,
   "id": "b7b1071e",
   "metadata": {
    "collapsed": true
   },
   "outputs": [
    {
     "ename": "ValueError",
     "evalue": "invalid literal for int() with base 10: 'python programming'",
     "output_type": "error",
     "traceback": [
      "\u001b[1;31m---------------------------------------------------------------------------\u001b[0m",
      "\u001b[1;31mValueError\u001b[0m                                Traceback (most recent call last)",
      "\u001b[1;32m~\\AppData\\Local\\Temp\\ipykernel_6756\\2122644272.py\u001b[0m in \u001b[0;36m<module>\u001b[1;34m\u001b[0m\n\u001b[0;32m      1\u001b[0m \u001b[1;31m### str to int\u001b[0m\u001b[1;33m\u001b[0m\u001b[1;33m\u001b[0m\u001b[0m\n\u001b[0;32m      2\u001b[0m \u001b[0mp\u001b[0m\u001b[1;33m=\u001b[0m\u001b[1;34m\"python programming\"\u001b[0m\u001b[1;33m\u001b[0m\u001b[1;33m\u001b[0m\u001b[0m\n\u001b[1;32m----> 3\u001b[1;33m \u001b[0mv\u001b[0m\u001b[1;33m=\u001b[0m\u001b[0mint\u001b[0m\u001b[1;33m(\u001b[0m\u001b[0mp\u001b[0m\u001b[1;33m)\u001b[0m\u001b[1;33m\u001b[0m\u001b[1;33m\u001b[0m\u001b[0m\n\u001b[0m\u001b[0;32m      4\u001b[0m \u001b[0mprint\u001b[0m\u001b[1;33m(\u001b[0m\u001b[0mp\u001b[0m\u001b[1;33m)\u001b[0m\u001b[1;33m\u001b[0m\u001b[1;33m\u001b[0m\u001b[0m\n\u001b[0;32m      5\u001b[0m \u001b[0mprint\u001b[0m\u001b[1;33m(\u001b[0m\u001b[0mtype\u001b[0m\u001b[1;33m(\u001b[0m\u001b[0mp\u001b[0m\u001b[1;33m)\u001b[0m\u001b[1;33m)\u001b[0m\u001b[1;33m\u001b[0m\u001b[1;33m\u001b[0m\u001b[0m\n",
      "\u001b[1;31mValueError\u001b[0m: invalid literal for int() with base 10: 'python programming'"
     ]
    }
   ],
   "source": [
    "### str to int\n",
    "p=\"python programming\"\n",
    "v=int(p)\n",
    "print(p)\n",
    "print(type(p))\n",
    "print(v)"
   ]
  },
  {
   "cell_type": "code",
   "execution_count": 46,
   "id": "531706c8",
   "metadata": {
    "collapsed": true
   },
   "outputs": [
    {
     "name": "stdout",
     "output_type": "stream",
     "text": [
      "89000\n",
      "<class 'str'>\n",
      "89000\n",
      "<class 'int'>\n"
     ]
    }
   ],
   "source": [
    "s=\"89000\"\n",
    "k=int(s)\n",
    "print(s)\n",
    "print(type(s))\n",
    "print(k)\n",
    "print(type(k))"
   ]
  },
  {
   "cell_type": "markdown",
   "id": "2bcc0b79",
   "metadata": {},
   "source": [
    "#### input reading in python\n",
    "        - static \n",
    "        - dynamic\n"
   ]
  },
  {
   "cell_type": "code",
   "execution_count": 48,
   "id": "0dfe084b",
   "metadata": {},
   "outputs": [
    {
     "name": "stdout",
     "output_type": "stream",
     "text": [
      "python\n"
     ]
    }
   ],
   "source": [
    "## static i/p reading\n",
    "name=\"python\"\n",
    "print(name)"
   ]
  },
  {
   "cell_type": "markdown",
   "id": "ff650666",
   "metadata": {},
   "source": [
    "#### Dynamic I/p reading\n",
    "        - input()"
   ]
  },
  {
   "cell_type": "code",
   "execution_count": 54,
   "id": "8d643749",
   "metadata": {
    "collapsed": true
   },
   "outputs": [
    {
     "name": "stdout",
     "output_type": "stream",
     "text": [
      "Enter Your Value Heresrikanya\n"
     ]
    },
    {
     "ename": "ValueError",
     "evalue": "invalid literal for int() with base 10: 'srikanya'",
     "output_type": "error",
     "traceback": [
      "\u001b[1;31m---------------------------------------------------------------------------\u001b[0m",
      "\u001b[1;31mValueError\u001b[0m                                Traceback (most recent call last)",
      "\u001b[1;32m~\\AppData\\Local\\Temp\\ipykernel_6756\\2345124572.py\u001b[0m in \u001b[0;36m<module>\u001b[1;34m\u001b[0m\n\u001b[1;32m----> 1\u001b[1;33m \u001b[0mn1\u001b[0m\u001b[1;33m=\u001b[0m\u001b[0mint\u001b[0m\u001b[1;33m(\u001b[0m\u001b[0minput\u001b[0m\u001b[1;33m(\u001b[0m\u001b[1;34m\"Enter Your Value Here\"\u001b[0m\u001b[1;33m)\u001b[0m\u001b[1;33m)\u001b[0m\u001b[1;33m\u001b[0m\u001b[1;33m\u001b[0m\u001b[0m\n\u001b[0m\u001b[0;32m      2\u001b[0m \u001b[0mprint\u001b[0m\u001b[1;33m(\u001b[0m\u001b[0mn1\u001b[0m\u001b[1;33m)\u001b[0m\u001b[1;33m\u001b[0m\u001b[1;33m\u001b[0m\u001b[0m\n",
      "\u001b[1;31mValueError\u001b[0m: invalid literal for int() with base 10: 'srikanya'"
     ]
    }
   ],
   "source": [
    "n1=int(input(\"Enter Your Value Here\"))\n",
    "print(n1)"
   ]
  },
  {
   "cell_type": "code",
   "execution_count": 53,
   "id": "5450a004",
   "metadata": {},
   "outputs": [
    {
     "name": "stdout",
     "output_type": "stream",
     "text": [
      "Enter Your Value90\n",
      "90.0\n"
     ]
    }
   ],
   "source": [
    "n2=float(input(\"Enter Your Value\"))\n",
    "print(n2)"
   ]
  },
  {
   "cell_type": "code",
   "execution_count": 52,
   "id": "5ac583d1",
   "metadata": {},
   "outputs": [
    {
     "name": "stdout",
     "output_type": "stream",
     "text": [
      "Enter Your Value herepython\n",
      "python\n"
     ]
    }
   ],
   "source": [
    "n3=input(\"Enter Your Value here\")\n",
    "print(n3)"
   ]
  },
  {
   "cell_type": "code",
   "execution_count": null,
   "id": "f1df9e22",
   "metadata": {},
   "outputs": [],
   "source": []
  }
 ],
 "metadata": {
  "kernelspec": {
   "display_name": "Python 3 (ipykernel)",
   "language": "python",
   "name": "python3"
  },
  "language_info": {
   "codemirror_mode": {
    "name": "ipython",
    "version": 3
   },
   "file_extension": ".py",
   "mimetype": "text/x-python",
   "name": "python",
   "nbconvert_exporter": "python",
   "pygments_lexer": "ipython3",
   "version": "3.9.13"
  }
 },
 "nbformat": 4,
 "nbformat_minor": 5
}
