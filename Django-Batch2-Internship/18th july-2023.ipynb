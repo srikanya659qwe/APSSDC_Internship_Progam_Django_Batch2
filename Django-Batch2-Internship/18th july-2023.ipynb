{
 "cells": [
  {
   "cell_type": "markdown",
   "id": "382a4c67",
   "metadata": {},
   "source": [
    "### Day Objectives:\n",
    "    - Functions In Python\n",
    "    - Problem Solving On Functions"
   ]
  },
  {
   "cell_type": "markdown",
   "id": "405e24df",
   "metadata": {},
   "source": [
    "### python user defined functions:\n",
    "    - 3.without arguments with return value\n",
    "    - 4.without argument without return value"
   ]
  },
  {
   "cell_type": "code",
   "execution_count": null,
   "id": "afb9f24f",
   "metadata": {},
   "outputs": [],
   "source": [
    "#### without arguments with return value"
   ]
  },
  {
   "cell_type": "code",
   "execution_count": 1,
   "id": "a9eb986e",
   "metadata": {},
   "outputs": [
    {
     "name": "stdout",
     "output_type": "stream",
     "text": [
      "2\n",
      "4\n"
     ]
    },
    {
     "data": {
      "text/plain": [
       "16"
      ]
     },
     "execution_count": 1,
     "metadata": {},
     "output_type": "execute_result"
    }
   ],
   "source": [
    "a1=int(input())\n",
    "b1=int(input()) \n",
    "def power():\n",
    "    return (a1**b1)\n",
    "power()\n"
   ]
  },
  {
   "cell_type": "code",
   "execution_count": null,
   "id": "b17e169e",
   "metadata": {},
   "outputs": [],
   "source": [
    "#### 4.without argument without return value"
   ]
  },
  {
   "cell_type": "code",
   "execution_count": 4,
   "id": "a6d8286b",
   "metadata": {},
   "outputs": [
    {
     "name": "stdout",
     "output_type": "stream",
     "text": [
      "3\n",
      "24\n",
      "0\n"
     ]
    }
   ],
   "source": [
    "x=int(input())\n",
    "y=int(input())\n",
    "def division():\n",
    "    print(x//y)\n",
    "division()"
   ]
  },
  {
   "cell_type": "markdown",
   "id": "ef0e47d4",
   "metadata": {},
   "source": [
    "#### problem solving on functions"
   ]
  },
  {
   "cell_type": "markdown",
   "id": "76a8420a",
   "metadata": {},
   "source": [
    "#### function to write reverse a string\n",
    "#### ex: i/p=\"python\"\n",
    "#### o/p:\"nohtyp\""
   ]
  },
  {
   "cell_type": "code",
   "execution_count": 6,
   "id": "37248930",
   "metadata": {},
   "outputs": [
    {
     "name": "stdout",
     "output_type": "stream",
     "text": [
      "python\n",
      "nohtyp\n"
     ]
    }
   ],
   "source": [
    "s=\"python\"\n",
    "print(s)\n",
    "print(s[::-1])"
   ]
  },
  {
   "cell_type": "code",
   "execution_count": 9,
   "id": "a5b28240",
   "metadata": {},
   "outputs": [
    {
     "name": "stdout",
     "output_type": "stream",
     "text": [
      "Enter your Stringpython programming\n"
     ]
    },
    {
     "data": {
      "text/plain": [
       "'gnimmargorp nohtyp'"
      ]
     },
     "execution_count": 9,
     "metadata": {},
     "output_type": "execute_result"
    }
   ],
   "source": [
    "s=input(\"Enter your String\")\n",
    "def ReverseString(s):\n",
    "    return s[::-1]\n",
    "    \n",
    "ReverseString(s)"
   ]
  },
  {
   "cell_type": "markdown",
   "id": "3dd1d8c3",
   "metadata": {},
   "source": [
    "#### Function to check if a string is a palindromic string or not?\n",
    "#### i/p: madam\n",
    "#### reverse:madam\n",
    "#### ex:madam,mom,dad,malayalam,level,aba....etc."
   ]
  },
  {
   "cell_type": "code",
   "execution_count": 12,
   "id": "bb754581",
   "metadata": {},
   "outputs": [
    {
     "name": "stdout",
     "output_type": "stream",
     "text": [
      "Enter your string here!...dad\n",
      "The given string is palindromic string\n"
     ]
    }
   ],
   "source": [
    "s=input(\"Enter your string here!...\")\n",
    "def Palindrome(s):\n",
    "    if s==s[::-1]:\n",
    "        print(\"The given string is palindromic string\")\n",
    "    else:\n",
    "        print(\"The given string is not a palindromic string\")\n",
    "Palindrome(s)"
   ]
  },
  {
   "cell_type": "markdown",
   "id": "7f2cafea",
   "metadata": {},
   "source": [
    "#### Function to check if a given year is leap year or not?"
   ]
  },
  {
   "cell_type": "code",
   "execution_count": 17,
   "id": "df61d614",
   "metadata": {},
   "outputs": [
    {
     "name": "stdout",
     "output_type": "stream",
     "text": [
      "Enter Your Year!...2000\n",
      "The given year is Leap year\n"
     ]
    }
   ],
   "source": [
    "year=int(input(\"Enter Your Year!...\"))\n",
    "def isLeapYear(year):\n",
    "    if year % 400 == 0 or (year % 4 == 0 and year % 100 != 0):\n",
    "        print(\"The given year is Leap year\")\n",
    "    else:\n",
    "        print(\"The given year is not a Leap Year\")\n",
    "    \n",
    "isLeapYear(year)"
   ]
  },
  {
   "cell_type": "markdown",
   "id": "99989578",
   "metadata": {},
   "source": [
    "#### Function to identify greatest numbers of 3 numbers"
   ]
  },
  {
   "cell_type": "code",
   "execution_count": 18,
   "id": "87755332",
   "metadata": {},
   "outputs": [
    {
     "name": "stdout",
     "output_type": "stream",
     "text": [
      "Enter your first number here!..10\n",
      "Enter your second number here!..78\n",
      "Enter your third number here!..90\n",
      "The third number is greatest one 90\n"
     ]
    }
   ],
   "source": [
    "n1=int(input(\"Enter your first number here!..\"))\n",
    "n2=int(input(\"Enter your second number here!..\"))\n",
    "n3=int(input(\"Enter your third number here!..\"))\n",
    "def Greatest(n1,n2,n3):\n",
    "    if n1>n2 and n1>n3:\n",
    "        print(\"The first number is greatest one\",n1)\n",
    "    elif n2>n3:\n",
    "        print(\"The second number is greatest one\",n2)\n",
    "    else:\n",
    "        print(\"The third number is greatest one\",n3)\n",
    "        \n",
    "Greatest(n1,n2,n3)"
   ]
  },
  {
   "cell_type": "markdown",
   "id": "f961e566",
   "metadata": {},
   "source": [
    "#### Function to print N natural numbers"
   ]
  },
  {
   "cell_type": "code",
   "execution_count": 20,
   "id": "066bd70a",
   "metadata": {
    "collapsed": true
   },
   "outputs": [
    {
     "name": "stdout",
     "output_type": "stream",
     "text": [
      "Enter your numbers range100\n",
      "1 2 3 4 5 6 7 8 9 10 11 12 13 14 15 16 17 18 19 20 21 22 23 24 25 26 27 28 29 30 31 32 33 34 35 36 37 38 39 40 41 42 43 44 45 46 47 48 49 50 51 52 53 54 55 56 57 58 59 60 61 62 63 64 65 66 67 68 69 70 71 72 73 74 75 76 77 78 79 80 81 82 83 84 85 86 87 88 89 90 91 92 93 94 95 96 97 98 99 100 "
     ]
    }
   ],
   "source": [
    "n=int(input(\"Enter your numbers range\"))\n",
    "def Natural(n):\n",
    "    for i in range(1,n+1):\n",
    "        print(i,end=\" \")\n",
    "Natural(n)"
   ]
  },
  {
   "cell_type": "code",
   "execution_count": 22,
   "id": "fd4661f5",
   "metadata": {
    "collapsed": true
   },
   "outputs": [
    {
     "name": "stdout",
     "output_type": "stream",
     "text": [
      "Enter your numbers range100\n",
      "1 2 3 4 5 6 7 8 9 10 11 12 13 14 15 16 17 18 19 20 21 22 23 24 25 26 27 28 29 30 31 32 33 34 35 36 37 38 39 40 41 42 43 44 45 46 47 48 49 50 51 52 53 54 55 56 57 58 59 60 61 62 63 64 65 66 67 68 69 70 71 72 73 74 75 76 77 78 79 80 81 82 83 84 85 86 87 88 89 90 91 92 93 94 95 96 97 98 99 100 "
     ]
    }
   ],
   "source": [
    "n=int(input(\"Enter your numbers range\"))\n",
    "def Natural(n):\n",
    "    i=1\n",
    "    while i<=n:\n",
    "        print(i,end=\" \")\n",
    "        i=i+1\n",
    "Natural(n)"
   ]
  },
  {
   "cell_type": "markdown",
   "id": "e86ae912",
   "metadata": {},
   "source": [
    "#### function to print alternative elements in given range"
   ]
  },
  {
   "cell_type": "code",
   "execution_count": 25,
   "id": "a3756943",
   "metadata": {},
   "outputs": [
    {
     "name": "stdout",
     "output_type": "stream",
     "text": [
      "Enter your start range!..10\n",
      "Enter your end range!..30\n",
      "10 12 14 16 18 20 22 24 26 28 30 "
     ]
    }
   ],
   "source": [
    "start=int(input(\"Enter your start range!..\"))\n",
    "end=int(input(\"Enter your end range!..\"))\n",
    "def Alternative(start,end):\n",
    "    for i in range(start,end+1,2):\n",
    "        print(i,end=\" \")\n",
    "    \n",
    "Alternative(start,end)"
   ]
  },
  {
   "cell_type": "markdown",
   "id": "f79c61a0",
   "metadata": {},
   "source": [
    "#### Function to print reverse order of a given range of elements"
   ]
  },
  {
   "cell_type": "code",
   "execution_count": 29,
   "id": "fd11d11f",
   "metadata": {},
   "outputs": [
    {
     "name": "stdout",
     "output_type": "stream",
     "text": [
      "Enter your starting range!..1\n",
      "Enter your ending range!..10\n",
      "10 9 8 7 6 5 4 3 2 1 "
     ]
    }
   ],
   "source": [
    "start=int(input(\"Enter your starting range!..\"))\n",
    "end=int(input(\"Enter your ending range!..\"))\n",
    "def ReverseOrder(start,end):\n",
    "    for i in range(end,start-1,-1):\n",
    "        print(i,end=\" \")\n",
    "    \n",
    "ReverseOrder(start,end)"
   ]
  },
  {
   "cell_type": "markdown",
   "id": "f6091fcc",
   "metadata": {},
   "source": [
    "#### function to calculate sum of numbers in a given range?\n",
    "#### ex: start--->1,end--->10\n",
    "#### 1,2,3,4,5,6,7,8,9,10--->1+2+3+4+...+10=55"
   ]
  },
  {
   "cell_type": "code",
   "execution_count": 34,
   "id": "410ee414",
   "metadata": {},
   "outputs": [
    {
     "name": "stdout",
     "output_type": "stream",
     "text": [
      "Enter your starting range!..10\n",
      "Enter your ending range!..20\n",
      "165\n"
     ]
    }
   ],
   "source": [
    "start=int(input(\"Enter your starting range!..\"))\n",
    "end=int(input(\"Enter your ending range!..\"))\n",
    "def SumRange(start,end):\n",
    "    total=0\n",
    "    for i in range(start,end+1):\n",
    "        total=total+i #total=0+1=1,total=1+2=3,total=3+3=6,total=6+4=10......\n",
    "    print(total)\n",
    "        \n",
    "SumRange(start,end)"
   ]
  },
  {
   "cell_type": "markdown",
   "id": "d5793612",
   "metadata": {},
   "source": [
    "#### function to calculate the average of a given range"
   ]
  },
  {
   "cell_type": "code",
   "execution_count": 38,
   "id": "ff1cb33b",
   "metadata": {},
   "outputs": [
    {
     "name": "stdout",
     "output_type": "stream",
     "text": [
      "Enter your starting range!..1\n",
      "Enter your ending range!..100\n",
      "50\n"
     ]
    }
   ],
   "source": [
    "start=int(input(\"Enter your starting range!..\"))\n",
    "end=int(input(\"Enter your ending range!..\"))\n",
    "def Average(start,end):\n",
    "    total=0\n",
    "    count=0\n",
    "    for i in range(start,end+1):\n",
    "        total=total+i #t=0+1=1,t=1+2=3\n",
    "        count=count+1 #c=0+1=1,c=1+1=2\n",
    "        \n",
    "    print(total//count)\n",
    "        \n",
    "Average(start,end)"
   ]
  },
  {
   "cell_type": "code",
   "execution_count": null,
   "id": "a3db0b61",
   "metadata": {},
   "outputs": [],
   "source": []
  }
 ],
 "metadata": {
  "kernelspec": {
   "display_name": "Python 3 (ipykernel)",
   "language": "python",
   "name": "python3"
  },
  "language_info": {
   "codemirror_mode": {
    "name": "ipython",
    "version": 3
   },
   "file_extension": ".py",
   "mimetype": "text/x-python",
   "name": "python",
   "nbconvert_exporter": "python",
   "pygments_lexer": "ipython3",
   "version": "3.9.13"
  }
 },
 "nbformat": 4,
 "nbformat_minor": 5
}
