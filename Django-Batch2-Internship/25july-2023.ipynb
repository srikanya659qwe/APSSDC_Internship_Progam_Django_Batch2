{
 "cells": [
  {
   "cell_type": "markdown",
   "id": "f8d3bfad",
   "metadata": {},
   "source": [
    "#### Day objectives:\n",
    "    - problem solving on regular expression\n",
    "            - phone number validation\n",
    "            - gmail validation"
   ]
  },
  {
   "cell_type": "markdown",
   "id": "6b16c6ae",
   "metadata": {},
   "source": [
    "#### phone number validation\n",
    "    - basic phone number\n",
    "    - starts with  0,phone number\n",
    "    - starts with +91 ,phone number\n",
    "    "
   ]
  },
  {
   "cell_type": "code",
   "execution_count": 2,
   "id": "85a4e08f",
   "metadata": {},
   "outputs": [],
   "source": [
    "import re"
   ]
  },
  {
   "cell_type": "code",
   "execution_count": 6,
   "id": "08e089ea",
   "metadata": {},
   "outputs": [
    {
     "name": "stdout",
     "output_type": "stream",
     "text": [
      "Enter your mobile number here!..+919492363502\n",
      "The given phone no is valid phone number\n"
     ]
    }
   ],
   "source": [
    "def Validation(number):\n",
    "    pattern='^[6-9][0-9]{9}$|^[0][6-9][0-9]{9}$|^[+][9][1][6-9][0-9]{9}$'\n",
    "    if re.match(pattern,number):\n",
    "        print(\"The given phone no is valid phone number\")\n",
    "    else:\n",
    "        print(\"The given phone no is not a valid phone number\")\n",
    "    \n",
    "number=input(\"Enter your mobile number here!..\")    \n",
    "Validation(number)"
   ]
  },
  {
   "cell_type": "markdown",
   "id": "a7c9f721",
   "metadata": {},
   "source": [
    "#### gmail validation:\n",
    "        - (username@domain.extension)\n",
    "        - username:\n",
    "            - starts with (digits,alphabates),should not starts with _,''\n",
    "            - remaining username(digits,alphabates(lower,upper),_,.,-)\n",
    "            - username length--->{6,15}\n",
    "        -@\n",
    "        - domain:\n",
    "            - starts with(alphabates)\n",
    "            - remaining(alphabates)\n",
    "            - domain length--->gmail,edu,yahoo,apssdc,info,...{3,10}\n",
    "        -.\n",
    "        - extensions(.com,.in,.org,.edu,.info)\n",
    "                - starts with(alphabates)\n",
    "                - length--->{2,4}"
   ]
  },
  {
   "cell_type": "code",
   "execution_count": 8,
   "id": "e3174496",
   "metadata": {},
   "outputs": [
    {
     "name": "stdout",
     "output_type": "stream",
     "text": [
      "enter your gmail here!...219X1A0515@gprec.ac.in\n",
      "The given gmail is valid gmail\n"
     ]
    }
   ],
   "source": [
    "def mailvalid(gmail):\n",
    "    pattern='^[0-9a-z][0-9a-zA-Z_.-]{6,20}[@][a-z.]{3,10}[.][a-z]{2,4}$'\n",
    "    if re.match(pattern,gmail):\n",
    "        print(\"The given gmail is valid gmail\")\n",
    "    else:\n",
    "        print(\"The given gmail is invalid!..\")\n",
    "gmail=input(\"enter your gmail here!...\")    \n",
    "mailvalid(gmail)"
   ]
  },
  {
   "cell_type": "code",
   "execution_count": 11,
   "id": "125c8acc",
   "metadata": {},
   "outputs": [
    {
     "name": "stdout",
     "output_type": "stream",
     "text": [
      "Enter a email: srikanya659@gmail.com\n",
      "The email srikanya659@gmail.com is a valid email\n"
     ]
    }
   ],
   "source": [
    "def validateEmail(email):\n",
    "    pattern = '^[0-9a-z][0-9a-z_.]{6,15}[@][a-z.]{3,7}[.][a-z]{2,4}$'\n",
    "    if re.match(pattern, email):\n",
    "        return True\n",
    "    return False\n",
    "\n",
    "email = input(\"Enter a email: \")\n",
    "if validateEmail(email):\n",
    "    print(f\"The email {email} is a valid email\")\n",
    "else:\n",
    "    print(f\"The email {email} is not a valid email\")"
   ]
  },
  {
   "cell_type": "code",
   "execution_count": null,
   "id": "1b3fcc27",
   "metadata": {},
   "outputs": [],
   "source": []
  }
 ],
 "metadata": {
  "kernelspec": {
   "display_name": "Python 3 (ipykernel)",
   "language": "python",
   "name": "python3"
  },
  "language_info": {
   "codemirror_mode": {
    "name": "ipython",
    "version": 3
   },
   "file_extension": ".py",
   "mimetype": "text/x-python",
   "name": "python",
   "nbconvert_exporter": "python",
   "pygments_lexer": "ipython3",
   "version": "3.9.13"
  }
 },
 "nbformat": 4,
 "nbformat_minor": 5
}
