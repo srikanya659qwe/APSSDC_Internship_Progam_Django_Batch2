{
 "cells": [
  {
   "cell_type": "markdown",
   "id": "ed7dc5da",
   "metadata": {},
   "source": [
    "#### Day objectives:\n",
    "    - package and module\n",
    "            - user defined module\n",
    "    - regular expression in python"
   ]
  },
  {
   "cell_type": "markdown",
   "id": "924467c5",
   "metadata": {},
   "source": [
    "#### Userdefined module:\n",
    "    - the module which is created by a user\n",
    "    - for accessing a module python provides one keyword\n",
    "            i.e import module name"
   ]
  },
  {
   "cell_type": "markdown",
   "id": "0a44f7e8",
   "metadata": {},
   "source": [
    "#### how to create userdefined module"
   ]
  },
  {
   "cell_type": "code",
   "execution_count": 2,
   "id": "155738c4",
   "metadata": {},
   "outputs": [
    {
     "name": "stdout",
     "output_type": "stream",
     "text": [
      "Prime\n"
     ]
    }
   ],
   "source": [
    "import module\n",
    "module.Prime(5)"
   ]
  },
  {
   "cell_type": "markdown",
   "id": "104f53eb",
   "metadata": {},
   "source": [
    "#### regular expression:\n",
    "    - for checking available data is valid for us or not\n",
    "    - for regular expression python provides one module\n",
    "        -i.e re\n",
    "        - import re\n",
    "                ex: google search engine\n",
    "                \n",
    "                \n",
    "#### methods:\n",
    "        - search()\n",
    "        - match()\n",
    "        - findall()"
   ]
  },
  {
   "cell_type": "code",
   "execution_count": 7,
   "id": "d7dfbbe7",
   "metadata": {},
   "outputs": [],
   "source": [
    "import re"
   ]
  },
  {
   "cell_type": "markdown",
   "id": "1b1acba9",
   "metadata": {},
   "source": [
    "#### search():\n",
    "        - we can verify the up to end of the string\n",
    "        - syntax:\n",
    "            re.search(str pattern,str data)"
   ]
  },
  {
   "cell_type": "code",
   "execution_count": 8,
   "id": "8f95345d",
   "metadata": {},
   "outputs": [
    {
     "name": "stdout",
     "output_type": "stream",
     "text": [
      "<re.Match object; span=(0, 1), match='p'>\n"
     ]
    }
   ],
   "source": [
    "name=\"python program\"\n",
    "print(re.search('p',name))"
   ]
  },
  {
   "cell_type": "code",
   "execution_count": 5,
   "id": "704ced94",
   "metadata": {},
   "outputs": [
    {
     "name": "stdout",
     "output_type": "stream",
     "text": [
      "None\n"
     ]
    }
   ],
   "source": [
    "print(re.search('v',name))"
   ]
  },
  {
   "cell_type": "code",
   "execution_count": 6,
   "id": "74c0b5ab",
   "metadata": {},
   "outputs": [
    {
     "name": "stdout",
     "output_type": "stream",
     "text": [
      "<re.Match object; span=(4, 5), match='o'>\n"
     ]
    }
   ],
   "source": [
    "print(re.search('o',name))"
   ]
  },
  {
   "cell_type": "markdown",
   "id": "63981e3c",
   "metadata": {},
   "source": [
    "#### print the names which contains \"U\" in their names by using re"
   ]
  },
  {
   "cell_type": "code",
   "execution_count": 13,
   "id": "ae21e6e4",
   "metadata": {},
   "outputs": [
    {
     "name": "stdout",
     "output_type": "stream",
     "text": [
      "hanuman\n",
      "srinu\n",
      "raju\n",
      "uma\n"
     ]
    }
   ],
   "source": [
    "names=['sairam','lakshmi','hanuman','srinu','raju','uma']\n",
    "for i in names:\n",
    "    if re.search('u',i):\n",
    "        print(i)"
   ]
  },
  {
   "cell_type": "markdown",
   "id": "51a66c83",
   "metadata": {},
   "source": [
    "#### match():\n",
    "    - we can verifying the data character to character\n",
    "    - syntax:\n",
    "        re.match(str pattern,str data)"
   ]
  },
  {
   "cell_type": "code",
   "execution_count": 15,
   "id": "c8cdec20",
   "metadata": {},
   "outputs": [
    {
     "name": "stdout",
     "output_type": "stream",
     "text": [
      "python program\n"
     ]
    }
   ],
   "source": [
    "print(name)"
   ]
  },
  {
   "cell_type": "code",
   "execution_count": 14,
   "id": "6fc22427",
   "metadata": {},
   "outputs": [
    {
     "name": "stdout",
     "output_type": "stream",
     "text": [
      "<re.Match object; span=(0, 1), match='p'>\n"
     ]
    }
   ],
   "source": [
    "print(re.match('p',name))"
   ]
  },
  {
   "cell_type": "code",
   "execution_count": 21,
   "id": "61b01aab",
   "metadata": {},
   "outputs": [
    {
     "name": "stdout",
     "output_type": "stream",
     "text": [
      "<re.Match object; span=(4, 5), match='o'>\n"
     ]
    }
   ],
   "source": [
    "print(re.search('o',name))"
   ]
  },
  {
   "cell_type": "code",
   "execution_count": 18,
   "id": "dcfea9e4",
   "metadata": {},
   "outputs": [
    {
     "name": "stdout",
     "output_type": "stream",
     "text": [
      "<re.Match object; span=(0, 2), match='py'>\n"
     ]
    }
   ],
   "source": [
    "print(re.match('py',name))"
   ]
  },
  {
   "cell_type": "markdown",
   "id": "111da2af",
   "metadata": {},
   "source": [
    "#### findall():\n",
    "    - syntax:\n",
    "        re.findall(str pattern,str data)"
   ]
  },
  {
   "cell_type": "code",
   "execution_count": 22,
   "id": "3c36b58e",
   "metadata": {
    "collapsed": true
   },
   "outputs": [
    {
     "data": {
      "text/plain": [
       "['m', 'm']"
      ]
     },
     "execution_count": 22,
     "metadata": {},
     "output_type": "execute_result"
    }
   ],
   "source": [
    "n=\"python programming 123\"\n",
    "re.findall('m',n)"
   ]
  },
  {
   "cell_type": "code",
   "execution_count": 23,
   "id": "dbd84eba",
   "metadata": {
    "collapsed": true
   },
   "outputs": [
    {
     "name": "stdout",
     "output_type": "stream",
     "text": [
      "['o', 'o']\n"
     ]
    }
   ],
   "source": [
    "print(re.findall('o',n))"
   ]
  },
  {
   "cell_type": "code",
   "execution_count": 24,
   "id": "3e87ab8e",
   "metadata": {
    "collapsed": true
   },
   "outputs": [
    {
     "name": "stdout",
     "output_type": "stream",
     "text": [
      "['1', '2', '3']\n"
     ]
    }
   ],
   "source": [
    "print(re.findall('\\d',n))"
   ]
  },
  {
   "cell_type": "markdown",
   "id": "e2777000",
   "metadata": {},
   "source": [
    "#### Special Characters in re\n",
    "        - .(dot)\n",
    "            - dot indicates any single character"
   ]
  },
  {
   "cell_type": "code",
   "execution_count": 25,
   "id": "62899b1e",
   "metadata": {},
   "outputs": [
    {
     "name": "stdout",
     "output_type": "stream",
     "text": [
      "<re.Match object; span=(0, 1), match='s'>\n"
     ]
    }
   ],
   "source": [
    "print(re.search('.','srikanya'))"
   ]
  },
  {
   "cell_type": "code",
   "execution_count": 26,
   "id": "29498d47",
   "metadata": {},
   "outputs": [
    {
     "name": "stdout",
     "output_type": "stream",
     "text": [
      "<re.Match object; span=(0, 2), match='sr'>\n"
     ]
    }
   ],
   "source": [
    "print(re.search('..','srikanya'))"
   ]
  },
  {
   "cell_type": "code",
   "execution_count": 27,
   "id": "80645a76",
   "metadata": {},
   "outputs": [
    {
     "name": "stdout",
     "output_type": "stream",
     "text": [
      "<re.Match object; span=(4, 7), match='any'>\n"
     ]
    }
   ],
   "source": [
    "print(re.search('a..','srikanya'))"
   ]
  },
  {
   "cell_type": "code",
   "execution_count": 29,
   "id": "eb910569",
   "metadata": {},
   "outputs": [
    {
     "name": "stdout",
     "output_type": "stream",
     "text": [
      "123\n",
      "1234\n",
      "123\n",
      "1234\n"
     ]
    }
   ],
   "source": [
    "numbers=['12','123','1234','123','1234']\n",
    "for i in numbers:\n",
    "    if re.search('...',i):\n",
    "        print(i)"
   ]
  },
  {
   "cell_type": "markdown",
   "id": "9a06f1d6",
   "metadata": {},
   "source": [
    "#### ^--->cap\n",
    "    - starts with"
   ]
  },
  {
   "cell_type": "code",
   "execution_count": 33,
   "id": "93c4f3b4",
   "metadata": {},
   "outputs": [
    {
     "name": "stdout",
     "output_type": "stream",
     "text": [
      "<re.Match object; span=(0, 2), match='sr'>\n"
     ]
    }
   ],
   "source": [
    "print(re.search('^sr','srikanya'))"
   ]
  },
  {
   "cell_type": "code",
   "execution_count": 34,
   "id": "c917afb7",
   "metadata": {},
   "outputs": [
    {
     "name": "stdout",
     "output_type": "stream",
     "text": [
      "None\n"
     ]
    }
   ],
   "source": [
    "print(re.search('^i','siri'))"
   ]
  },
  {
   "cell_type": "markdown",
   "id": "cb77d6cb",
   "metadata": {},
   "source": [
    "#### $-->dollar\n",
    "    - ends with"
   ]
  },
  {
   "cell_type": "code",
   "execution_count": 35,
   "id": "d77c7372",
   "metadata": {},
   "outputs": [
    {
     "name": "stdout",
     "output_type": "stream",
     "text": [
      "python program\n"
     ]
    }
   ],
   "source": [
    "print(name)"
   ]
  },
  {
   "cell_type": "code",
   "execution_count": 36,
   "id": "26835f0a",
   "metadata": {},
   "outputs": [
    {
     "name": "stdout",
     "output_type": "stream",
     "text": [
      "<re.Match object; span=(13, 14), match='m'>\n"
     ]
    }
   ],
   "source": [
    "print(re.search('m$',name))"
   ]
  },
  {
   "cell_type": "code",
   "execution_count": 38,
   "id": "1a2e8065",
   "metadata": {},
   "outputs": [
    {
     "name": "stdout",
     "output_type": "stream",
     "text": [
      "<re.Match object; span=(12, 14), match='am'>\n"
     ]
    }
   ],
   "source": [
    "print(re.search('am$',name))"
   ]
  },
  {
   "cell_type": "code",
   "execution_count": 45,
   "id": "e5d0bbbf",
   "metadata": {
    "collapsed": true
   },
   "outputs": [
    {
     "name": "stdout",
     "output_type": "stream",
     "text": [
      "123\n",
      "163\n",
      "678\n"
     ]
    }
   ],
   "source": [
    "numbers=['12','123','1234','163','678']\n",
    "for i in numbers:\n",
    "    if re.search('^...$',i):\n",
    "        print(i)"
   ]
  },
  {
   "cell_type": "code",
   "execution_count": 46,
   "id": "f2078fc3",
   "metadata": {
    "collapsed": true
   },
   "outputs": [
    {
     "name": "stdout",
     "output_type": "stream",
     "text": [
      "123\n",
      "163\n"
     ]
    }
   ],
   "source": [
    "numbers=['12','123','1234','163','678']\n",
    "for i in numbers:\n",
    "    if re.search('^1.3$',i):\n",
    "        print(i)"
   ]
  },
  {
   "cell_type": "markdown",
   "id": "7c071590",
   "metadata": {},
   "source": [
    "#### /d-->digits\n",
    "    - any single digit"
   ]
  },
  {
   "cell_type": "code",
   "execution_count": 54,
   "id": "a87e09ea",
   "metadata": {},
   "outputs": [
    {
     "name": "stdout",
     "output_type": "stream",
     "text": [
      "<re.Match object; span=(6, 7), match='1'>\n"
     ]
    }
   ],
   "source": [
    "print(re.search('\\d','python123'))"
   ]
  },
  {
   "cell_type": "code",
   "execution_count": 55,
   "id": "54189c72",
   "metadata": {},
   "outputs": [
    {
     "name": "stdout",
     "output_type": "stream",
     "text": [
      "<re.Match object; span=(6, 8), match='12'>\n"
     ]
    }
   ],
   "source": [
    "print(re.search('\\d\\d','python123'))"
   ]
  },
  {
   "cell_type": "code",
   "execution_count": 56,
   "id": "29af6a78",
   "metadata": {},
   "outputs": [
    {
     "name": "stdout",
     "output_type": "stream",
     "text": [
      "<re.Match object; span=(6, 9), match='123'>\n"
     ]
    }
   ],
   "source": [
    "print(re.search('\\d\\d\\d','python123'))"
   ]
  },
  {
   "cell_type": "code",
   "execution_count": 60,
   "id": "fe06a8fc",
   "metadata": {},
   "outputs": [
    {
     "name": "stdout",
     "output_type": "stream",
     "text": [
      "['1', '1', '0', '0']\n"
     ]
    }
   ],
   "source": [
    "#### find the all digits in given data\n",
    "novel=\"every 1 has a story or 100 stories\"\n",
    "print(re.findall('\\d',novel))"
   ]
  },
  {
   "cell_type": "code",
   "execution_count": 61,
   "id": "8695e636",
   "metadata": {},
   "outputs": [
    {
     "name": "stdout",
     "output_type": "stream",
     "text": [
      "['100', '200']\n"
     ]
    }
   ],
   "source": [
    "novel=\"every 1 has a story or 100 stories or 200 stories\"\n",
    "print(re.findall('\\d\\d\\d',novel))"
   ]
  },
  {
   "cell_type": "code",
   "execution_count": null,
   "id": "ee9f1f0c",
   "metadata": {},
   "outputs": [],
   "source": []
  }
 ],
 "metadata": {
  "kernelspec": {
   "display_name": "Python 3 (ipykernel)",
   "language": "python",
   "name": "python3"
  },
  "language_info": {
   "codemirror_mode": {
    "name": "ipython",
    "version": 3
   },
   "file_extension": ".py",
   "mimetype": "text/x-python",
   "name": "python",
   "nbconvert_exporter": "python",
   "pygments_lexer": "ipython3",
   "version": "3.9.13"
  }
 },
 "nbformat": 4,
 "nbformat_minor": 5
}
