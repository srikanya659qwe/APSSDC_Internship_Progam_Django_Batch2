{
 "cells": [
  {
   "cell_type": "markdown",
   "id": "bfee9979",
   "metadata": {},
   "source": [
    "#### Today Objectives:\n",
    "        - problem solving on functions\n",
    "        - comprehension"
   ]
  },
  {
   "cell_type": "markdown",
   "id": "c02897d5",
   "metadata": {},
   "source": [
    "#### function to print factorial of a given numbers\n",
    "#### ex: 6--->factorical:6*5*4*3*2*1--->720"
   ]
  },
  {
   "cell_type": "code",
   "execution_count": 14,
   "id": "71c78cd5",
   "metadata": {
    "collapsed": true
   },
   "outputs": [
    {
     "name": "stdout",
     "output_type": "stream",
     "text": [
      "Enter your number here!..6\n",
      "1\n",
      "2\n",
      "6\n",
      "24\n",
      "120\n",
      "720\n"
     ]
    }
   ],
   "source": [
    "n=int(input(\"Enter your number here!..\"))\n",
    "def factorial(n):\n",
    "    f=1\n",
    "    for i in range(1,n+1):\n",
    "        f=f*i ### f=1*1=1,f=1*2=2,f=2*3=6\n",
    "        print(f)\n",
    "factorial(n)"
   ]
  },
  {
   "cell_type": "markdown",
   "id": "af9f3c15",
   "metadata": {},
   "source": [
    "#### function to print factors of a given numbers\n",
    "#### ex:6--->1,2,3,6"
   ]
  },
  {
   "cell_type": "code",
   "execution_count": 22,
   "id": "8a9bf21a",
   "metadata": {},
   "outputs": [
    {
     "name": "stdout",
     "output_type": "stream",
     "text": [
      "Enter your value here!...24\n",
      "1 2 3 4 6 8 12 24 "
     ]
    }
   ],
   "source": [
    "n=int(input(\"Enter your value here!...\"))\n",
    "def factors(n):\n",
    "    for i in range(1,n+1):\n",
    "        if n%i==0: ##6%1==0,6%2==0,6%3==0,6%4!=0(F),6%5!=0(f),6%6==0\n",
    "            print(i,end=\" \")\n",
    "    \n",
    "factors(n)"
   ]
  },
  {
   "cell_type": "markdown",
   "id": "66e8e144",
   "metadata": {},
   "source": [
    "#### Function to print the given is prime number or not?\n",
    "#### prime number:\n",
    "    - the number which is divisible by 1 and itself\n",
    "    - the default factors count is 2"
   ]
  },
  {
   "cell_type": "code",
   "execution_count": 27,
   "id": "a2d32287",
   "metadata": {},
   "outputs": [
    {
     "name": "stdout",
     "output_type": "stream",
     "text": [
      "Enter your number here!..7\n",
      "The given number is prime no\n"
     ]
    }
   ],
   "source": [
    "n=int(input(\"Enter your number here!..\"))\n",
    "def Prime(n):\n",
    "    factors_count=0\n",
    "    for i in range(1,n+1):\n",
    "        if n%i==0:\n",
    "            factors_count=factors_count+1\n",
    "            \n",
    "    if factors_count==2:\n",
    "        print(\"The given number is prime no\")\n",
    "    else:\n",
    "        print(\"The given number is not a prime no\")\n",
    "            \n",
    "    \n",
    "Prime(n)"
   ]
  },
  {
   "cell_type": "markdown",
   "id": "6a554ecb",
   "metadata": {},
   "source": [
    "#### Function to print the given number is perfect no or not?\n",
    "#### perfect number:\n",
    "        - sum of the factors except itself is equal to the given number\n",
    "        - ex: n=6\n",
    "                - 1,2,3\n",
    "                - 1+2+3=6\n",
    "        - ex: n=28\n",
    "                - 1,2,4,7,14\n",
    "                - 1+2+4+7+14=28"
   ]
  },
  {
   "cell_type": "code",
   "execution_count": 33,
   "id": "6375495e",
   "metadata": {
    "collapsed": true
   },
   "outputs": [
    {
     "name": "stdout",
     "output_type": "stream",
     "text": [
      "Enter your number here!..8128\n",
      "The given number is perfect number\n"
     ]
    }
   ],
   "source": [
    "n=int(input(\"Enter your number here!..\"))\n",
    "def Perfect(n):\n",
    "    factors_sum=0\n",
    "    for i in range(1,n):\n",
    "        if n%i==0:\n",
    "            factors_sum=factors_sum+i\n",
    "            \n",
    "            \n",
    "    if factors_sum==n:\n",
    "        print(\"The given number is perfect number\")\n",
    "    else:\n",
    "        print(\"The given number is not a perfect number\")\n",
    "    \n",
    "Perfect(n)"
   ]
  },
  {
   "cell_type": "markdown",
   "id": "a44ed12f",
   "metadata": {},
   "source": [
    "##### tasks:\n",
    "        - function to print leap years in given range\n",
    "            - ex: 2000->2023--->\n",
    "        - function to print prime numbers in given range\n",
    "        - funcction to print perfecct numbers in given range"
   ]
  },
  {
   "cell_type": "markdown",
   "id": "40f3b2b3",
   "metadata": {},
   "source": [
    "#### comprehension in python:\n",
    "    - it is a process of creating new sequence from the existed sequence\n",
    "    - the main advantage of this comprehension \n",
    "            - time complexity\n",
    "            - space complexity\n",
    "\n",
    "#### types of comprehension:\n",
    "        - list comprehension\n",
    "        - dict comprehension\n",
    "        - set comprehension"
   ]
  },
  {
   "cell_type": "markdown",
   "id": "96663304",
   "metadata": {},
   "source": [
    "#### list comprehension:\n",
    "    - syntax:\n",
    "        -[output_variable control statements conditional statements]"
   ]
  },
  {
   "cell_type": "code",
   "execution_count": null,
   "id": "4770d5a7",
   "metadata": {},
   "outputs": [],
   "source": [
    "### print first 10 natural number in list"
   ]
  },
  {
   "cell_type": "code",
   "execution_count": 36,
   "id": "2019c600",
   "metadata": {},
   "outputs": [
    {
     "name": "stdout",
     "output_type": "stream",
     "text": [
      "20\n",
      "[1, 2, 3, 4, 5, 6, 7, 8, 9, 10, 11, 12, 13, 14, 15, 16, 17, 18, 19, 20]\n"
     ]
    }
   ],
   "source": [
    "n=int(input())\n",
    "l=[]\n",
    "for i in range(1,n+1):\n",
    "    l.append(i)\n",
    "print(l)"
   ]
  },
  {
   "cell_type": "code",
   "execution_count": 37,
   "id": "bbbd7667",
   "metadata": {},
   "outputs": [
    {
     "name": "stdout",
     "output_type": "stream",
     "text": [
      "[1, 2, 3, 4, 5, 6, 7, 8, 9, 10, 11, 12, 13, 14, 15, 16, 17, 18, 19, 20]\n"
     ]
    }
   ],
   "source": [
    "### by using lc:\n",
    "l1=[i for i in range(1,21)]\n",
    "print(l1)"
   ]
  },
  {
   "cell_type": "code",
   "execution_count": 41,
   "id": "81c861f6",
   "metadata": {},
   "outputs": [
    {
     "name": "stdout",
     "output_type": "stream",
     "text": [
      "['good', 'evening', 'guys', 'welcome', 'to', 'intership', 'program']\n"
     ]
    }
   ],
   "source": [
    "### to print total words in list\n",
    "s=[\"good evening guys welcome to intership program\"]\n",
    "e=[]\n",
    "for i in s:\n",
    "    for j in i.split():\n",
    "        e.append(j)\n",
    "print(e)"
   ]
  },
  {
   "cell_type": "code",
   "execution_count": 42,
   "id": "0f6b0f5d",
   "metadata": {},
   "outputs": [
    {
     "name": "stdout",
     "output_type": "stream",
     "text": [
      "['good', 'evening', 'guys', 'welcome', 'to', 'intership', 'program']\n"
     ]
    }
   ],
   "source": [
    "#### by lc:\n",
    "s=[\"good evening guys welcome to intership program\"]\n",
    "o=[j for i in s for j in i.split()]\n",
    "print(o)\n"
   ]
  },
  {
   "cell_type": "markdown",
   "id": "9b45b92a",
   "metadata": {},
   "source": [
    "#### dict comprehension:\n",
    "    - syntax:\n",
    "        {output_variable control_statement conditional_statement}"
   ]
  },
  {
   "cell_type": "markdown",
   "id": "2ff49bf6",
   "metadata": {},
   "source": [
    "#### i/p:5--->1,2,3,4,5\n",
    "#### o/p:{1:1,2:4,3:9,4:16,5:25}"
   ]
  },
  {
   "cell_type": "code",
   "execution_count": 45,
   "id": "1e98b8ac",
   "metadata": {},
   "outputs": [
    {
     "data": {
      "text/plain": [
       "{1: 1, 2: 4, 3: 9, 4: 16, 5: 25}"
      ]
     },
     "execution_count": 45,
     "metadata": {},
     "output_type": "execute_result"
    }
   ],
   "source": [
    "### by using dc\n",
    "d={i:i**2 for i in range(1,6)}\n",
    "d"
   ]
  },
  {
   "cell_type": "code",
   "execution_count": 47,
   "id": "f0f01cd5",
   "metadata": {},
   "outputs": [
    {
     "name": "stdout",
     "output_type": "stream",
     "text": [
      "{2: 8, 3: 27, 4: 64, 5: 125, 1: 1, 8: 512, 9: 729, 7: 343}\n"
     ]
    }
   ],
   "source": [
    "m=[2,3,4,5,1,8,9,7]\n",
    "n={i:i**3 for i in m}\n",
    "print(n)"
   ]
  },
  {
   "cell_type": "markdown",
   "id": "0b583782",
   "metadata": {},
   "source": [
    "#### set comprehension:\n",
    "    - syntax:\n",
    "        -{output_variable control statements conditional statement}"
   ]
  },
  {
   "cell_type": "markdown",
   "id": "cbf4fe38",
   "metadata": {},
   "source": [
    "#### ex: i/p:[5,6,7,3,4,9]\n",
    "#### o/p:set--->odd--->{25 49 9 81}"
   ]
  },
  {
   "cell_type": "code",
   "execution_count": 51,
   "id": "08b6cc01",
   "metadata": {},
   "outputs": [
    {
     "name": "stdout",
     "output_type": "stream",
     "text": [
      "{81, 25, 9, 49}\n"
     ]
    }
   ],
   "source": [
    "l2=[5,6,7,3,4,9]\n",
    "f=set()\n",
    "for i in l2:\n",
    "    if i%2!=0:\n",
    "        f.add(i**2)\n",
    "print(f)\n",
    "       "
   ]
  },
  {
   "cell_type": "code",
   "execution_count": 52,
   "id": "be1287aa",
   "metadata": {},
   "outputs": [
    {
     "name": "stdout",
     "output_type": "stream",
     "text": [
      "{81, 25, 9, 49}\n"
     ]
    }
   ],
   "source": [
    "### by using sc\n",
    "l2=[5,6,7,3,4,9]\n",
    "r={i**2 for i in l2 if(i%2!=0)}\n",
    "print(r)"
   ]
  },
  {
   "cell_type": "code",
   "execution_count": null,
   "id": "ed10e3b7",
   "metadata": {},
   "outputs": [],
   "source": []
  }
 ],
 "metadata": {
  "kernelspec": {
   "display_name": "Python 3 (ipykernel)",
   "language": "python",
   "name": "python3"
  },
  "language_info": {
   "codemirror_mode": {
    "name": "ipython",
    "version": 3
   },
   "file_extension": ".py",
   "mimetype": "text/x-python",
   "name": "python",
   "nbconvert_exporter": "python",
   "pygments_lexer": "ipython3",
   "version": "3.9.13"
  }
 },
 "nbformat": 4,
 "nbformat_minor": 5
}
