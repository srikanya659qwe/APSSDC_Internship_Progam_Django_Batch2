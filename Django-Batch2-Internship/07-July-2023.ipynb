{
 "cells": [
  {
   "cell_type": "markdown",
   "id": "0dd1f09b",
   "metadata": {},
   "source": [
    "### Day objectives:\n",
    "    - Bit wise Operators\n",
    "    - Conditional Statements in python"
   ]
  },
  {
   "cell_type": "markdown",
   "id": "6de6e4df",
   "metadata": {},
   "source": [
    "#### Bitwise operators(&,|,^,~,<<,>>) "
   ]
  },
  {
   "cell_type": "code",
   "execution_count": 3,
   "id": "a7416108",
   "metadata": {},
   "outputs": [
    {
     "name": "stdout",
     "output_type": "stream",
     "text": [
      "0\n"
     ]
    }
   ],
   "source": [
    "### AND  -->result bit is 1,if both operand bits are 1,otherwise result bit 0 \n",
    "a=10 #1010\n",
    "b=4  #0100\n",
    "print(a&b)"
   ]
  },
  {
   "cell_type": "code",
   "execution_count": 1,
   "id": "53699c76",
   "metadata": {},
   "outputs": [
    {
     "data": {
      "text/plain": [
       "'0b1010'"
      ]
     },
     "execution_count": 1,
     "metadata": {},
     "output_type": "execute_result"
    }
   ],
   "source": [
    "### if you want to convert decimal to binary\n",
    "bin(10)"
   ]
  },
  {
   "cell_type": "code",
   "execution_count": 2,
   "id": "67fb141c",
   "metadata": {},
   "outputs": [
    {
     "data": {
      "text/plain": [
       "'0b100'"
      ]
     },
     "execution_count": 2,
     "metadata": {},
     "output_type": "execute_result"
    }
   ],
   "source": [
    "bin(4)"
   ]
  },
  {
   "cell_type": "code",
   "execution_count": 4,
   "id": "994b531f",
   "metadata": {},
   "outputs": [
    {
     "name": "stdout",
     "output_type": "stream",
     "text": [
      "14\n"
     ]
    }
   ],
   "source": [
    "### OR --->result bit is 1 ,if any of the operand bit is 1,otherwise result bit is 0\n",
    "print(a|b)"
   ]
  },
  {
   "cell_type": "code",
   "execution_count": null,
   "id": "2a1ffae4",
   "metadata": {},
   "outputs": [],
   "source": [
    "### XOR --->result bit 1 ,if any of the operand bit is 1but not \n",
    "#### --->both results otherwise result bit is 0"
   ]
  },
  {
   "cell_type": "code",
   "execution_count": null,
   "id": "67e64e0c",
   "metadata": {},
   "outputs": [],
   "source": [
    "     XOR\n",
    "1 1  0\n",
    "1 0  1\n",
    "0 1  1\n",
    "0 0  0"
   ]
  },
  {
   "cell_type": "code",
   "execution_count": 5,
   "id": "e947075b",
   "metadata": {},
   "outputs": [
    {
     "name": "stdout",
     "output_type": "stream",
     "text": [
      "14\n"
     ]
    }
   ],
   "source": [
    "print(a^b)"
   ]
  },
  {
   "cell_type": "markdown",
   "id": "77ac7a41",
   "metadata": {},
   "source": [
    "#### <<(left shift)\n",
    "    - shifts the bits of the number to left side and fills 0 on viods right side"
   ]
  },
  {
   "cell_type": "code",
   "execution_count": 6,
   "id": "66d03fd2",
   "metadata": {},
   "outputs": [
    {
     "name": "stdout",
     "output_type": "stream",
     "text": [
      "5\n"
     ]
    }
   ],
   "source": [
    "x=5 # 0000 0101\n",
    "print(x)"
   ]
  },
  {
   "cell_type": "code",
   "execution_count": 7,
   "id": "98b982b2",
   "metadata": {},
   "outputs": [
    {
     "data": {
      "text/plain": [
       "'0b101'"
      ]
     },
     "execution_count": 7,
     "metadata": {},
     "output_type": "execute_result"
    }
   ],
   "source": [
    "### convert decimal to binary\n",
    "bin(5)"
   ]
  },
  {
   "cell_type": "code",
   "execution_count": 9,
   "id": "5c412424",
   "metadata": {
    "scrolled": true
   },
   "outputs": [
    {
     "name": "stdout",
     "output_type": "stream",
     "text": [
      "10\n",
      "20\n"
     ]
    }
   ],
   "source": [
    "print(x<<1)\n",
    "print(x<<2)"
   ]
  },
  {
   "cell_type": "code",
   "execution_count": null,
   "id": "73b37e8f",
   "metadata": {},
   "outputs": [],
   "source": [
    "x<<1-->shifting no is 1\n",
    "x<<2-->shifting no is 2\n",
    "0000 0101<<1\n",
    "00001010\n",
    "0000 0101<<2\n",
    "00010100"
   ]
  },
  {
   "cell_type": "markdown",
   "id": "4c87d033",
   "metadata": {},
   "source": [
    "### right shift(>>):\n",
    "    - shifts the bits of the number to right side and fills 0 on viods left side"
   ]
  },
  {
   "cell_type": "code",
   "execution_count": null,
   "id": "edfe2e1b",
   "metadata": {},
   "outputs": [],
   "source": [
    "x>>1\n",
    "0000 0101 >> 1\n",
    "00000010\n",
    "x>>2\n",
    "0000 0101 >> 2\n",
    "\n",
    "00000001"
   ]
  },
  {
   "cell_type": "code",
   "execution_count": 11,
   "id": "3dc54093",
   "metadata": {},
   "outputs": [
    {
     "name": "stdout",
     "output_type": "stream",
     "text": [
      "1\n"
     ]
    }
   ],
   "source": [
    "print(x>>2)"
   ]
  },
  {
   "cell_type": "code",
   "execution_count": null,
   "id": "2c7374d6",
   "metadata": {},
   "outputs": [],
   "source": [
    "### NOT(~)--> return ones complement  of the number"
   ]
  },
  {
   "cell_type": "code",
   "execution_count": 14,
   "id": "320afb9c",
   "metadata": {},
   "outputs": [
    {
     "name": "stdout",
     "output_type": "stream",
     "text": [
      "10\n"
     ]
    }
   ],
   "source": [
    "y=10  ## 1010\n",
    "print(y)"
   ]
  },
  {
   "cell_type": "code",
   "execution_count": 15,
   "id": "55797f95",
   "metadata": {
    "scrolled": true
   },
   "outputs": [
    {
     "data": {
      "text/plain": [
       "'0b1010'"
      ]
     },
     "execution_count": 15,
     "metadata": {},
     "output_type": "execute_result"
    }
   ],
   "source": [
    "bin(10)"
   ]
  },
  {
   "cell_type": "code",
   "execution_count": null,
   "id": "bd55228f",
   "metadata": {},
   "outputs": [],
   "source": [
    "10--->1010-->1s--->0101\n",
    "10---->1010-->2s--->1010+1--->1011--->- 11"
   ]
  },
  {
   "cell_type": "code",
   "execution_count": 16,
   "id": "3d3df523",
   "metadata": {},
   "outputs": [
    {
     "name": "stdout",
     "output_type": "stream",
     "text": [
      "-11\n"
     ]
    }
   ],
   "source": [
    "print(~y)"
   ]
  },
  {
   "cell_type": "code",
   "execution_count": null,
   "id": "8e2ebdc4",
   "metadata": {},
   "outputs": [],
   "source": [
    "1010--->0101--->5"
   ]
  },
  {
   "cell_type": "markdown",
   "id": "8496c510",
   "metadata": {},
   "source": [
    "#### Conditional Statements in python\n",
    "    - if\n",
    "        - single if used when we have single condition or single case\n",
    "    - if..else\n",
    "        - if..else is used for checking True and False Situation\n",
    "    - if...elif...else\n",
    "        - used for when we have more than one condition\n",
    "    - nested if\n",
    "        - Conditions inside conditions"
   ]
  },
  {
   "cell_type": "markdown",
   "id": "d17ef38b",
   "metadata": {},
   "source": [
    "#### Identation:\n",
    "    - which indicates a block\n",
    "    - if we are not given proper identation then it will return indentation error\n",
    "    - it is nothing but one tab space or four white spaces."
   ]
  },
  {
   "cell_type": "markdown",
   "id": "5aa120dd",
   "metadata": {},
   "source": [
    "### syntax for conditional statements:\n",
    "    - if(condition):\n",
    "        ## block of code ---> indicates indentation\n"
   ]
  },
  {
   "cell_type": "code",
   "execution_count": 17,
   "id": "70cecf2a",
   "metadata": {},
   "outputs": [
    {
     "name": "stdout",
     "output_type": "stream",
     "text": [
      "50\n",
      "Positive\n"
     ]
    }
   ],
   "source": [
    "n=int(input())\n",
    "if(n>0):# 50>0(T)\n",
    "    print(\"Positive\")"
   ]
  },
  {
   "cell_type": "code",
   "execution_count": 19,
   "id": "022aee78",
   "metadata": {},
   "outputs": [
    {
     "name": "stdout",
     "output_type": "stream",
     "text": [
      "-9\n",
      "Negetive\n"
     ]
    }
   ],
   "source": [
    "h=int(input())\n",
    "if(h<0): #(-9<0)(T)\n",
    "    print(\"Negetive\")"
   ]
  },
  {
   "cell_type": "markdown",
   "id": "3c62d87a",
   "metadata": {},
   "source": [
    "#### if(condition):--->(T)\n",
    "    ## block of code\n",
    "#### else:--->(F)\n",
    "        ### block of code\n",
    "        "
   ]
  },
  {
   "cell_type": "code",
   "execution_count": null,
   "id": "5c5d1daf",
   "metadata": {},
   "outputs": [],
   "source": [
    "### to check whether the given no is even or not?"
   ]
  },
  {
   "cell_type": "code",
   "execution_count": 20,
   "id": "e9a9f305",
   "metadata": {},
   "outputs": [
    {
     "name": "stdout",
     "output_type": "stream",
     "text": [
      "Enter Your value here9\n",
      "Odd no\n"
     ]
    }
   ],
   "source": [
    "e=int(input(\"Enter Your value here\"))\n",
    "if (e%2==0):\n",
    "    print(\"Even no\")\n",
    "else:\n",
    "    print(\"Odd no\")"
   ]
  },
  {
   "cell_type": "code",
   "execution_count": null,
   "id": "21f91caa",
   "metadata": {},
   "outputs": [],
   "source": [
    "#### to check whether the given user is eligible for vote or not?"
   ]
  },
  {
   "cell_type": "code",
   "execution_count": 24,
   "id": "b09fa61e",
   "metadata": {},
   "outputs": [
    {
     "name": "stdout",
     "output_type": "stream",
     "text": [
      "Enter your age20\n",
      "Eligible for vote\n"
     ]
    }
   ],
   "source": [
    "age=int(input(\"Enter your age\"))\n",
    "if (age>=18):\n",
    "    print(\"Eligible for vote\")\n",
    "else:\n",
    "    print(\"Not Eligible for vote\")"
   ]
  },
  {
   "cell_type": "code",
   "execution_count": null,
   "id": "91515be1",
   "metadata": {},
   "outputs": [],
   "source": [
    "#### To check whether the given character is vowel or consonant?"
   ]
  },
  {
   "cell_type": "code",
   "execution_count": 28,
   "id": "594d2d33",
   "metadata": {},
   "outputs": [
    {
     "name": "stdout",
     "output_type": "stream",
     "text": [
      "Enter Character hereE\n",
      "Vowel\n"
     ]
    }
   ],
   "source": [
    "ch=input(\"Enter Character here\")\n",
    "if(ch=='a' or ch=='e' or ch=='i' or ch=='o' or ch=='u' or\n",
    "ch=='A' or ch=='E' or ch=='I' or ch=='O' or ch=='U'):\n",
    "    print(\"Vowel\")\n",
    "else:\n",
    "    print(\"Consonant\")"
   ]
  },
  {
   "cell_type": "markdown",
   "id": "de322eca",
   "metadata": {},
   "source": [
    "#### i/p: 1 digit 2 digits--->existed\n",
    "####  i/p 3 digits---> not existed"
   ]
  },
  {
   "cell_type": "code",
   "execution_count": 35,
   "id": "a66ff2d3",
   "metadata": {},
   "outputs": [
    {
     "name": "stdout",
     "output_type": "stream",
     "text": [
      "Enter Your Number here:2\n",
      "Existed\n"
     ]
    }
   ],
   "source": [
    "d=int(input(\"Enter Your Number here:\"))\n",
    "if(d>=1 and d<=99 ): #100>=1(T) and 100<=99(F)\n",
    "    print(\"Existed\")\n",
    "else:\n",
    "    print(\"Not Existed\")"
   ]
  },
  {
   "cell_type": "code",
   "execution_count": null,
   "id": "e7018096",
   "metadata": {},
   "outputs": [],
   "source": []
  }
 ],
 "metadata": {
  "kernelspec": {
   "display_name": "Python 3 (ipykernel)",
   "language": "python",
   "name": "python3"
  },
  "language_info": {
   "codemirror_mode": {
    "name": "ipython",
    "version": 3
   },
   "file_extension": ".py",
   "mimetype": "text/x-python",
   "name": "python",
   "nbconvert_exporter": "python",
   "pygments_lexer": "ipython3",
   "version": "3.9.13"
  }
 },
 "nbformat": 4,
 "nbformat_minor": 5
}
