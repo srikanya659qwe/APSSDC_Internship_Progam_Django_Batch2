{
 "cells": [
  {
   "cell_type": "code",
   "execution_count": null,
   "id": "d08970d4",
   "metadata": {},
   "outputs": [],
   "source": [
    "cell"
   ]
  },
  {
   "cell_type": "code",
   "execution_count": null,
   "id": "a147c3d4",
   "metadata": {},
   "outputs": [],
   "source": [
    "Litarate Programming:\n",
    "        - it is a combination of both documention and coding"
   ]
  },
  {
   "cell_type": "markdown",
   "id": "bfb0264b",
   "metadata": {},
   "source": [
    "### Documention in jupyter note book:\n",
    "        - Markdown Syntax:\n",
    "                - headings\n",
    "                - Sub headings\n",
    "                - images\n",
    "                - links\n",
    "                - bold format\n",
    "                - itlic format"
   ]
  },
  {
   "cell_type": "code",
   "execution_count": null,
   "id": "76f8a2cc",
   "metadata": {},
   "outputs": [],
   "source": [
    "#### headings:"
   ]
  },
  {
   "cell_type": "markdown",
   "id": "d5220fa1",
   "metadata": {},
   "source": [
    "# Heading1\n",
    "## Heading2\n",
    "### Heading3\n",
    "#### Heading 4\n",
    "##### Heading 5\n",
    "###### Heading6\n",
    "\n"
   ]
  },
  {
   "cell_type": "markdown",
   "id": "8d6e38c0",
   "metadata": {},
   "source": [
    "- PYTHON\n",
    "   * Data Analysis\n",
    "   * Data Mimining\n",
    "        * Web Development using Django\n",
    "        * web development using ReactJs\n",
    "    "
   ]
  },
  {
   "cell_type": "markdown",
   "id": "7ca90bc1",
   "metadata": {},
   "source": [
    "### How to change text into bold and italic in markdown"
   ]
  },
  {
   "cell_type": "markdown",
   "id": "6c3bcb1a",
   "metadata": {},
   "source": [
    "**Srikanya**"
   ]
  },
  {
   "cell_type": "markdown",
   "id": "82b36fad",
   "metadata": {},
   "source": [
    "*Srikanya*"
   ]
  },
  {
   "cell_type": "markdown",
   "id": "bb59e2ec",
   "metadata": {},
   "source": [
    "***BoldItalic***"
   ]
  },
  {
   "cell_type": "markdown",
   "id": "26808578",
   "metadata": {},
   "source": [
    "#### How to insert image by using markdown"
   ]
  },
  {
   "cell_type": "markdown",
   "id": "3e35aac2",
   "metadata": {},
   "source": [
    "<img src=\"card10.jpg\">"
   ]
  },
  {
   "cell_type": "markdown",
   "id": "9559d107",
   "metadata": {},
   "source": [
    "#### How to insert links into document"
   ]
  },
  {
   "cell_type": "markdown",
   "id": "40fbb1bf",
   "metadata": {},
   "source": [
    "[Google](https://www.google.com/)\n",
    "\n",
    "[Gmail](https://mail.google.com)"
   ]
  },
  {
   "cell_type": "code",
   "execution_count": null,
   "id": "0e546b01",
   "metadata": {},
   "outputs": [],
   "source": [
    "#### Jupyter notebook shortcuts:\n",
    "        - run a cell---> shift+enter,cntrl+enter\n",
    "        - insert a cell for above--->a\n",
    "        - insert a cell for below--->b\n",
    "        - delete a cell--->dd\n",
    "        - markdown mode--->m(markdown)\n",
    "        - code mode--->y(code mode)\n",
    "        "
   ]
  },
  {
   "cell_type": "markdown",
   "id": "60fdbf55",
   "metadata": {},
   "source": [
    "- siri\n",
    "    * **giri**\n",
    "        * *vanitha*"
   ]
  },
  {
   "cell_type": "code",
   "execution_count": null,
   "id": "70a2a2d6",
   "metadata": {},
   "outputs": [],
   "source": []
  }
 ],
 "metadata": {
  "kernelspec": {
   "display_name": "Python 3 (ipykernel)",
   "language": "python",
   "name": "python3"
  },
  "language_info": {
   "codemirror_mode": {
    "name": "ipython",
    "version": 3
   },
   "file_extension": ".py",
   "mimetype": "text/x-python",
   "name": "python",
   "nbconvert_exporter": "python",
   "pygments_lexer": "ipython3",
   "version": "3.9.13"
  }
 },
 "nbformat": 4,
 "nbformat_minor": 5
}
