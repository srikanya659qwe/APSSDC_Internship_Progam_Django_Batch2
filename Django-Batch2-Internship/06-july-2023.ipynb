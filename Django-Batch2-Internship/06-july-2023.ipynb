{
 "cells": [
  {
   "cell_type": "markdown",
   "id": "f9c10510",
   "metadata": {},
   "source": [
    "#### Day Objectives:\n",
    "        - Python Operators\n",
    "        - operator:\n",
    "            - it perform operation between two operands\n",
    "                    ex: a + b\n",
    "                     - +-->operator\n",
    "                     - here a,b are operands,\n",
    "                     \n",
    "#### python operators:\n",
    "    - Arithmetic operators\n",
    "            - +,-,*,/,//,**,%\n",
    "    - Assignment operators\n",
    "            - =,+=,-=,*=,/=\n",
    "    - Comparision operators\n",
    "            - ==,<,>,<=,>=,!=\n",
    "    - Logical operators\n",
    "            - and,or,not\n",
    "    - Bitwise Operators\n",
    "            - &(AND),|(OR),^(XOR),~(NOT),<<,>>\n",
    "    - Membership Operators\n",
    "            - in,not in\n",
    "    - Identity Operators\n",
    "            - is,is not"
   ]
  },
  {
   "cell_type": "code",
   "execution_count": 1,
   "id": "bf88a7db",
   "metadata": {},
   "outputs": [
    {
     "name": "stdout",
     "output_type": "stream",
     "text": [
      "Enter Your First Value89\n",
      "Enter Your Second Value90\n",
      "The addition of a and b is: 179\n",
      "The Subtraction of a and b is: -1\n",
      "The Multiplication of a and b is: 8010\n",
      "The division of a and b is : 0.9888888888888889\n",
      "The Floor Divison of a and b is : 0\n",
      "The power of a and b is: 27867666080957522871418747630558296160084589093565292975127743086570351545530522832761352796314159435095779741128493798750041472708986150680813851112383341129061856156722212401\n",
      "The module of a and b is: 89\n"
     ]
    }
   ],
   "source": [
    "#### Arithmatic Operators\n",
    "a=int(input(\"Enter Your First Value\"))\n",
    "b=int(input(\"Enter Your Second Value\"))\n",
    "print(\"The addition of a and b is:\",a+b)\n",
    "print(\"The Subtraction of a and b is:\",a-b)\n",
    "print(\"The Multiplication of a and b is:\",a*b)\n",
    "print(\"The division of a and b is :\",a/b)\n",
    "print(\"The Floor Divison of a and b is :\",a//b)\n",
    "print(\"The power of a and b is:\",a**b)\n",
    "print(\"The module of a and b is:\",a%b)\n"
   ]
  },
  {
   "cell_type": "code",
   "execution_count": 7,
   "id": "3cc5ee6b",
   "metadata": {},
   "outputs": [
    {
     "name": "stdout",
     "output_type": "stream",
     "text": [
      "3\n",
      "5\n",
      "3\n",
      "18\n",
      "6\n"
     ]
    }
   ],
   "source": [
    "#### Assignment Operators\n",
    "s=3\n",
    "print(s)\n",
    "s+=2   #s = s+2,s=3+2=5\n",
    "print(s)\n",
    "s-=2   # s=s-2,s=5-2=3\n",
    "print(s)\n",
    "s*=6  # s=s*6,s=3*6=18\n",
    "print(s)\n",
    "s//=3  # s=s/3,18/3\n",
    "print(s)\n"
   ]
  },
  {
   "cell_type": "markdown",
   "id": "8117fa3f",
   "metadata": {},
   "source": [
    "#### Comparision Operators\n",
    "    - it returns boolean values(T,F)\n"
   ]
  },
  {
   "cell_type": "code",
   "execution_count": 10,
   "id": "05cbfdaa",
   "metadata": {},
   "outputs": [
    {
     "name": "stdout",
     "output_type": "stream",
     "text": [
      "Enter your x value9\n",
      "Enter your y value10\n",
      "False\n",
      "True\n",
      "False\n",
      "True\n",
      "True\n",
      "False\n"
     ]
    }
   ],
   "source": [
    "x=int(input(\"Enter your x value\"))\n",
    "y=int(input(\"Enter your y value\"))\n",
    "print(x==y)  # (9==10)-->F\n",
    "print(x!=y)   #(9!=10)-->T\n",
    "print(x>y)    #(9>10)-->F\n",
    "print(x<y)    #(9<10)-->T\n",
    "print(x<=y)   #(9<=10)-->T\n",
    "print(x>=y)   #(9>=10)--->F"
   ]
  },
  {
   "cell_type": "code",
   "execution_count": null,
   "id": "0014faaf",
   "metadata": {},
   "outputs": [],
   "source": [
    "#### Logical operators\n",
    "AND\n",
    "------\n",
    "a  b    a and b\n",
    "T  T       T\n",
    "T  F       F\n",
    "F  T       F\n",
    "F  F       F\n",
    "\n",
    "\n",
    "OR\n",
    "----\n",
    "a b     a or b\n",
    "T T       T\n",
    "T F       T\n",
    "F T       T\n",
    "F F       F"
   ]
  },
  {
   "cell_type": "code",
   "execution_count": 18,
   "id": "99e6651e",
   "metadata": {
    "collapsed": true
   },
   "outputs": [
    {
     "name": "stdout",
     "output_type": "stream",
     "text": [
      "enter your first value6\n",
      "enter your second value7\n",
      "False\n"
     ]
    }
   ],
   "source": [
    "### and\n",
    "f=int(input(\"enter your first value\"))\n",
    "b=int(input(\"enter your second value\"))\n",
    "print(f>b and f<b) # 6>7(F) and 6<7(T)"
   ]
  },
  {
   "cell_type": "code",
   "execution_count": 19,
   "id": "7ba8a9f7",
   "metadata": {
    "collapsed": true
   },
   "outputs": [
    {
     "name": "stdout",
     "output_type": "stream",
     "text": [
      "True\n"
     ]
    }
   ],
   "source": [
    "### or\n",
    "print(f>b or f<b) #(6>7)(F) or (6<7)(T)"
   ]
  },
  {
   "cell_type": "code",
   "execution_count": 20,
   "id": "6c203272",
   "metadata": {
    "collapsed": true
   },
   "outputs": [
    {
     "name": "stdout",
     "output_type": "stream",
     "text": [
      "False\n"
     ]
    }
   ],
   "source": [
    "### not\n",
    "print(not f<b) # 6 < 7(T)"
   ]
  },
  {
   "cell_type": "markdown",
   "id": "ba54ed09",
   "metadata": {},
   "source": [
    "### Membership operators:(T,F)\n",
    "    - These operators are used to test if sequence is presented in an object\n",
    "    - sequence:\n",
    "        - list,tuple,str,dict,set..."
   ]
  },
  {
   "cell_type": "code",
   "execution_count": 21,
   "id": "6db789e1",
   "metadata": {},
   "outputs": [
    {
     "name": "stdout",
     "output_type": "stream",
     "text": [
      "python workshop\n"
     ]
    }
   ],
   "source": [
    "s=\"python workshop\"\n",
    "print(s)"
   ]
  },
  {
   "cell_type": "code",
   "execution_count": 25,
   "id": "3c9853c8",
   "metadata": {
    "collapsed": true
   },
   "outputs": [
    {
     "name": "stdout",
     "output_type": "stream",
     "text": [
      "True\n",
      "False\n",
      "True\n",
      "True\n"
     ]
    }
   ],
   "source": [
    "## in\n",
    "print(\"o\" in s)\n",
    "print(\"e\" in s)\n",
    "print(\"w\" in s)\n",
    "print(\"p\" in s)\n"
   ]
  },
  {
   "cell_type": "code",
   "execution_count": 31,
   "id": "48455f62",
   "metadata": {
    "collapsed": true
   },
   "outputs": [
    {
     "name": "stdout",
     "output_type": "stream",
     "text": [
      "python workshop\n",
      "True\n",
      "False\n",
      "True\n",
      "True\n",
      "False\n"
     ]
    }
   ],
   "source": [
    "### not in\n",
    "print(s)\n",
    "print(\"f\" not in s)\n",
    "print(\"w\" not in s)\n",
    "print(\"g\" not in s)\n",
    "print(\"wel\" not in s)\n",
    "print(\"workshop\" not in s)"
   ]
  },
  {
   "cell_type": "markdown",
   "id": "9d09d4f5",
   "metadata": {},
   "source": [
    "### Identity Operators:(T,F)\n",
    "    - these operators are mostly used for memory locations of two objects "
   ]
  },
  {
   "cell_type": "code",
   "execution_count": 38,
   "id": "f6ba7167",
   "metadata": {
    "collapsed": true
   },
   "outputs": [
    {
     "name": "stdout",
     "output_type": "stream",
     "text": [
      "False\n",
      "True\n"
     ]
    }
   ],
   "source": [
    "i=5\n",
    "j=6\n",
    "print(i is j) # 5 is 6\n",
    "print(i is not j)"
   ]
  },
  {
   "cell_type": "code",
   "execution_count": 37,
   "id": "6bd1523b",
   "metadata": {
    "collapsed": true
   },
   "outputs": [
    {
     "name": "stdout",
     "output_type": "stream",
     "text": [
      "False\n"
     ]
    }
   ],
   "source": [
    "i1=4\n",
    "j1=4.0\n",
    "print(i1 is j1) #(4 is 4.0)"
   ]
  },
  {
   "cell_type": "code",
   "execution_count": 39,
   "id": "6f87a51e",
   "metadata": {
    "collapsed": true
   },
   "outputs": [
    {
     "name": "stdout",
     "output_type": "stream",
     "text": [
      "True\n"
     ]
    }
   ],
   "source": [
    "print(i1 is not j1) # (4 4.0)"
   ]
  },
  {
   "cell_type": "markdown",
   "id": "a11f5bf7",
   "metadata": {},
   "source": [
    "### bitwise operators:\n",
    "    - decimal to binary--->bin"
   ]
  },
  {
   "cell_type": "code",
   "execution_count": 40,
   "id": "08c0dc06",
   "metadata": {},
   "outputs": [
    {
     "data": {
      "text/plain": [
       "'0b1010'"
      ]
     },
     "execution_count": 40,
     "metadata": {},
     "output_type": "execute_result"
    }
   ],
   "source": [
    "bin(10)"
   ]
  },
  {
   "cell_type": "code",
   "execution_count": 41,
   "id": "273e464a",
   "metadata": {},
   "outputs": [
    {
     "data": {
      "text/plain": [
       "'0b10100'"
      ]
     },
     "execution_count": 41,
     "metadata": {},
     "output_type": "execute_result"
    }
   ],
   "source": [
    "bin(20)"
   ]
  },
  {
   "cell_type": "code",
   "execution_count": 42,
   "id": "26e213fa",
   "metadata": {},
   "outputs": [
    {
     "name": "stdout",
     "output_type": "stream",
     "text": [
      "0\n"
     ]
    }
   ],
   "source": [
    "c=10\n",
    "d=20\n",
    "print(c&d)"
   ]
  },
  {
   "cell_type": "code",
   "execution_count": 44,
   "id": "13aafe40",
   "metadata": {},
   "outputs": [
    {
     "name": "stdout",
     "output_type": "stream",
     "text": [
      "30\n"
     ]
    }
   ],
   "source": [
    "print(c|d)"
   ]
  },
  {
   "cell_type": "code",
   "execution_count": null,
   "id": "b468836b",
   "metadata": {},
   "outputs": [],
   "source": [
    "10--->1010\n",
    "20---->10100\n",
    "&---> 00001010\n",
    "      00010100\n",
    "    -----------\n",
    "      00000000\n",
    "        1111 0\n",
    "              +0*2^3+0*22^2+0*2^1+0*2^0--->0\n",
    "                0*2^0+1*2^1+1*2^2+1*2^3+1*2^4=1*2+1*4+1*8+1*16=30"
   ]
  },
  {
   "cell_type": "code",
   "execution_count": null,
   "id": "b0eaa2ec",
   "metadata": {},
   "outputs": [],
   "source": []
  }
 ],
 "metadata": {
  "kernelspec": {
   "display_name": "Python 3 (ipykernel)",
   "language": "python",
   "name": "python3"
  },
  "language_info": {
   "codemirror_mode": {
    "name": "ipython",
    "version": 3
   },
   "file_extension": ".py",
   "mimetype": "text/x-python",
   "name": "python",
   "nbconvert_exporter": "python",
   "pygments_lexer": "ipython3",
   "version": "3.9.13"
  }
 },
 "nbformat": 4,
 "nbformat_minor": 5
}
