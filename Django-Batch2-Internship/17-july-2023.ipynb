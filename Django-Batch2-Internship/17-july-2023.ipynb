{
 "cells": [
  {
   "cell_type": "markdown",
   "id": "fb591e6a",
   "metadata": {},
   "source": [
    "#### Day Objectives:\n",
    "    - problem solving on datastructures\n",
    "    - functions in python"
   ]
  },
  {
   "cell_type": "markdown",
   "id": "f3cc8a3d",
   "metadata": {},
   "source": [
    "#### read a list numbers and print the numbers divisible by 2 and not divisible by 5"
   ]
  },
  {
   "cell_type": "code",
   "execution_count": 5,
   "id": "733f01be",
   "metadata": {},
   "outputs": [
    {
     "name": "stdout",
     "output_type": "stream",
     "text": [
      "Enter your list of elements!...78 90 67 34 45 15 5 10 20\n",
      "Enter your x value here!...2\n",
      "Enter your y value here!...5\n",
      "[78, 90, 67, 34, 45, 15, 5, 10, 20]\n",
      "78 34 "
     ]
    }
   ],
   "source": [
    "L1=input(\"Enter your list of elements!...\").split()\n",
    "x=int(input(\"Enter your x value here!...\"))\n",
    "y=int(input(\"Enter your y value here!...\"))\n",
    "L2=[]\n",
    "for i in L1:\n",
    "    L2.append(int(i))\n",
    "print(L2)\n",
    "for j in L2:\n",
    "    if j%x==0 and j%y!=0:\n",
    "        print(j,end=\" \")"
   ]
  },
  {
   "cell_type": "code",
   "execution_count": 7,
   "id": "28c9527e",
   "metadata": {},
   "outputs": [
    {
     "name": "stdout",
     "output_type": "stream",
     "text": [
      "Enter your list of elements!...78 56 23 12\n",
      "['78', '56', '23', '12']\n"
     ]
    }
   ],
   "source": [
    "L1=input(\"Enter your list of elements!...\").split()\n",
    "print(L1)"
   ]
  },
  {
   "cell_type": "markdown",
   "id": "fe509a8c",
   "metadata": {},
   "source": [
    "#### read a list of numbers and print sum of even integers and odd integers\n",
    "#### ex: [23,10,15,14,63]\n",
    "####  even numbers:10,14\n",
    "            - sum:24\n",
    "####  odd numbers:23,15,63\n",
    "            - sum:101"
   ]
  },
  {
   "cell_type": "code",
   "execution_count": 11,
   "id": "f1ea9a66",
   "metadata": {},
   "outputs": [
    {
     "name": "stdout",
     "output_type": "stream",
     "text": [
      "Enter your list of values here!..23 10 14 15 63\n",
      "[23, 10, 14, 15, 63]\n",
      "Even numbers sum is: 24\n",
      "odd numbers sum is: 101\n"
     ]
    }
   ],
   "source": [
    "L3=input(\"Enter your list of values here!..\").split()\n",
    "even_sum=odd_sum=0\n",
    "L4=[]\n",
    "for i in L3:\n",
    "    L4.append(int(i))\n",
    "print(L4)\n",
    "for j in L4:\n",
    "    if j%2==0:\n",
    "        even_sum=even_sum+j\n",
    "    else:\n",
    "        odd_sum=odd_sum+j\n",
    "print(\"Even numbers sum is:\",even_sum)\n",
    "print(\"odd numbers sum is:\",odd_sum)"
   ]
  },
  {
   "cell_type": "markdown",
   "id": "e8417cfa",
   "metadata": {},
   "source": [
    "#### read a list of numbers and remove the duplicate elements(unique elements)\n",
    "#### ex:[10 20 40 10 50 30 20 10 80]\n",
    "#### o/p:[10,20,40,50,30,80]"
   ]
  },
  {
   "cell_type": "code",
   "execution_count": 13,
   "id": "89ae2ffb",
   "metadata": {
    "collapsed": true
   },
   "outputs": [
    {
     "name": "stdout",
     "output_type": "stream",
     "text": [
      "Enter your list of values here!..10 20 40 10 50 30 20 10\n",
      "[10, 20, 40, 10, 50, 30, 20, 10]\n",
      "[10, 20, 40, 50, 30]\n"
     ]
    }
   ],
   "source": [
    "s1=input(\"Enter your list of values here!..\").split()\n",
    "s2=[]\n",
    "for i in s1:\n",
    "    s2.append(int(i))\n",
    "print(s2)\n",
    "\n",
    "# logic to remove duplicates values from the list\n",
    "unique=[]\n",
    "for j in s2:\n",
    "    if j not in unique:\n",
    "        unique.append(j)\n",
    "        \n",
    "print(unique)\n",
    "        \n",
    "    "
   ]
  },
  {
   "cell_type": "markdown",
   "id": "82e16d96",
   "metadata": {},
   "source": [
    "#### write a program to count no of vowels using sets in given string\n",
    "#### i/p:\"hello world\"\n",
    "#### o/p:no of vowels:3"
   ]
  },
  {
   "cell_type": "code",
   "execution_count": 16,
   "id": "18178eda",
   "metadata": {},
   "outputs": [
    {
     "name": "stdout",
     "output_type": "stream",
     "text": [
      "Enter your String!...python workshop\n",
      "no of vowels: 3\n"
     ]
    }
   ],
   "source": [
    "s3=input(\"Enter your String!...\")\n",
    "vowel=set(\"aeiouAEIOU\")\n",
    "count=0\n",
    "for i in s3:\n",
    "    if i in vowel:\n",
    "        count=count+1\n",
    "print(\"no of vowels:\",count)\n",
    "    "
   ]
  },
  {
   "cell_type": "markdown",
   "id": "e1fd3bc4",
   "metadata": {},
   "source": [
    "### task:\n",
    "#### ex:[10,25,30,47,56,84,96]\n",
    "         0  1  2  3   4  5 6\n",
    "#### odd index position elements:\n",
    "            - 25,47,84"
   ]
  },
  {
   "cell_type": "markdown",
   "id": "fce341e7",
   "metadata": {},
   "source": [
    "#### Functions In Python:"
   ]
  },
  {
   "cell_type": "markdown",
   "id": "8772b2da",
   "metadata": {},
   "source": [
    "#### function:\n",
    "    - function is a group of related statements that performs a specific task\n",
    "                        or\n",
    "    - function is a block of code which only runs when it is called\n",
    "    \n",
    "#### function syntax:\n",
    "        - for the function definition python provide one keyword\n",
    "                i.e def\n",
    "                    def function name(parameters):--->function definition\n",
    "                                ### logic/code\n",
    "                \n",
    "                    function name(arguments)----> function calling\n",
    "\n",
    "\n",
    "#### Advantages:\n",
    "    - code reusability\n",
    "            - it divides large program into simpler one\n",
    "            \n",
    "#### Types of functions:\n",
    "    - builtin functions\n",
    "            - ex: print(),min(),max(),len(),sum()....\n",
    "    - user defined functions\n",
    "            - These functions are created by the user\n",
    "        \n",
    "#### Types of user defined functions:\n",
    "    - 1. with arguments with return value\n",
    "    - 2. with arguments without return value\n",
    "    - 3. without arguments with return value\n",
    "    - 4. without arguments without return value"
   ]
  },
  {
   "cell_type": "code",
   "execution_count": 18,
   "id": "bdc67943",
   "metadata": {},
   "outputs": [
    {
     "data": {
      "text/plain": [
       "15"
      ]
     },
     "execution_count": 18,
     "metadata": {},
     "output_type": "execute_result"
    }
   ],
   "source": [
    "### with arguments with return values\n",
    "\n",
    "def addition(a,b):\n",
    "    return (a+b)\n",
    "    \n",
    "addition(7,8)\n",
    "    "
   ]
  },
  {
   "cell_type": "code",
   "execution_count": 19,
   "id": "6014701a",
   "metadata": {},
   "outputs": [
    {
     "data": {
      "text/plain": [
       "15"
      ]
     },
     "execution_count": 19,
     "metadata": {},
     "output_type": "execute_result"
    }
   ],
   "source": [
    "a=7\n",
    "b=8\n",
    "def addition(a,b):\n",
    "    return (a+b)\n",
    "    \n",
    "addition(a,b)"
   ]
  },
  {
   "cell_type": "code",
   "execution_count": 20,
   "id": "fa4b0cfb",
   "metadata": {},
   "outputs": [
    {
     "name": "stdout",
     "output_type": "stream",
     "text": [
      "7\n",
      "8\n",
      "56\n"
     ]
    }
   ],
   "source": [
    "### with arguments with out return value\n",
    "c=int(input())\n",
    "d=int(input())\n",
    "def mul(c,d):\n",
    "    print(c*d)\n",
    "mul(c,d)"
   ]
  },
  {
   "cell_type": "code",
   "execution_count": null,
   "id": "f81793fc",
   "metadata": {},
   "outputs": [],
   "source": []
  }
 ],
 "metadata": {
  "kernelspec": {
   "display_name": "Python 3 (ipykernel)",
   "language": "python",
   "name": "python3"
  },
  "language_info": {
   "codemirror_mode": {
    "name": "ipython",
    "version": 3
   },
   "file_extension": ".py",
   "mimetype": "text/x-python",
   "name": "python",
   "nbconvert_exporter": "python",
   "pygments_lexer": "ipython3",
   "version": "3.9.13"
  }
 },
 "nbformat": 4,
 "nbformat_minor": 5
}
